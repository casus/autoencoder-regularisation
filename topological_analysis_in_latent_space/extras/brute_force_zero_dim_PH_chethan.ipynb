{
 "cells": [
  {
   "cell_type": "code",
   "execution_count": null,
   "metadata": {},
   "outputs": [
    {
     "ename": "",
     "evalue": "",
     "output_type": "error",
     "traceback": [
      "\u001b[1;31mFailed to start the Kernel. \n",
      "The Jupyter notebook server failed to launch in time. \n",
      "View Jupyter <a href='command:jupyter.viewOutput'>log</a> for further details."
     ]
    }
   ],
   "source": [
    "import sys\n",
    "sys.path.append('/home/ramana44/topological-analysis-of-curved-spaces-and-hybridization-of-autoencoders')\n",
    "\n",
    "\n",
    "from get_data import get_data, get_data_train, get_data_val\n",
    "import torch\n",
    "import os\n",
    "import numpy as np\n",
    "\n",
    "import matplotlib.pyplot as plt\n",
    "%matplotlib inline\n",
    "\n",
    "from datasets import InMemDataLoader\n",
    "import torch.nn.functional as F\n",
    "import torch\n",
    "import nibabel as nib     # Read / write access to some common neuroimaging file formats\n",
    "#device = torch.device('cuda' if torch.cuda.is_available() else 'cpu')\n",
    "device = torch.device('cpu')\n",
    "from scipy import interpolate\n",
    "import ot\n",
    "\n",
    "import jmp_solver1.surrogates\n",
    "import matplotlib\n",
    "matplotlib.rcdefaults() \n",
    "\n",
    "from models_un import AE_un\n",
    "from models import AE\n",
    "from activations import Sin"
   ]
  },
  {
   "cell_type": "code",
   "execution_count": 81,
   "metadata": {},
   "outputs": [],
   "source": [
    "# All Functions \n",
    "def _compute_distance_matrix(x, p=2):\n",
    "    x_flat = x.view(x.size(0), -1)\n",
    "\n",
    "    distances = torch.norm(x_flat[:, None] - x_flat, dim=2, p=p)\n",
    "\n",
    "    return distances\n",
    "\n",
    "# function to check whether the selected edge is going to close a potential loop\n",
    "\n",
    "def expecting_a_cycle(actual_new_test, my_edge):\n",
    "\n",
    "    left_ind = my_edge[0][0]\n",
    "    right_ind = my_edge[0][1]\n",
    "    found_right_ind = False\n",
    "    going_nowhere= False\n",
    "\n",
    "    new_test = actual_new_test\n",
    "\n",
    "    tracker = 0\n",
    "    no_branches_formed = True\n",
    "    while (not(found_right_ind) or not(going_nowhere)):\n",
    "\n",
    "        positions1 = (new_test == left_ind).nonzero(as_tuple=False)\n",
    "\n",
    "        if(positions1.shape[0]>1):\n",
    "            edge_to_delete = new_test[positions1[0][0]]\n",
    "            no_branches_formed = False\n",
    "        \n",
    "        branches_rising = positions1.shape[0]\n",
    "\n",
    "        if(positions1.shape[0]==0):\n",
    "            going_nowhere= True\n",
    "            if(no_branches_formed):\n",
    "                break\n",
    "            \n",
    "            left_ind = my_edge[0][0]\n",
    "\n",
    "            deletable_edge_position1 = (actual_new_test == edge_to_delete[0]).nonzero(as_tuple=False)\n",
    "            deletable_edge_position2 = (actual_new_test == edge_to_delete[1]).nonzero(as_tuple=False)\n",
    "\n",
    "            deletable_edge_position1 = deletable_edge_position1[:,0]\n",
    "\n",
    "            deletable_edge_position2 = deletable_edge_position2[:,0]\n",
    "\n",
    "            a_cat_b1, counts1 = torch.cat([deletable_edge_position1, deletable_edge_position2]).unique(return_counts=True)\n",
    "            deletable_row_position = a_cat_b1[torch.where(counts1.gt(1))]\n",
    "\n",
    "            if(deletable_row_position.shape[0]==0):\n",
    "                going_nowhere = True\n",
    "                break\n",
    "\n",
    "            deletable_row_position = deletable_row_position[0]\n",
    "\n",
    "            actual_new_test = torch.cat((actual_new_test[:deletable_row_position], actual_new_test[deletable_row_position+1:]))\n",
    "            new_test = actual_new_test\n",
    "\n",
    "            positions1 = (new_test == left_ind).nonzero(as_tuple=False)\n",
    "\n",
    "            if(tracker ==0):\n",
    "                break\n",
    "\n",
    "        if(positions1.shape[0]>1):\n",
    "            edge_to_delete = new_test[positions1[0][0]]\n",
    "            no_branches_formed = False\n",
    "                \n",
    "        first_position = positions1[0][0]\n",
    "        adj_edge1 = new_test[positions1[0][0]]\n",
    "        other_end1 = abs(positions1 - torch.tensor([[0, 1]]))\n",
    "\n",
    "\n",
    "        consec_pt1 = new_test[other_end1[0][0]][other_end1[0][1]]\n",
    "        consec_pt1 = int(consec_pt1)\n",
    "\n",
    "        if(consec_pt1 == right_ind):\n",
    "            found_right_ind = True\n",
    "            break\n",
    "\n",
    "        else:\n",
    "            left_ind = consec_pt1\n",
    "            new_test = torch.cat((new_test[:first_position], new_test[first_position+1:]))\n",
    "            tracker = tracker+1\n",
    "    \n",
    "    return found_right_ind\n",
    "\n",
    "\n",
    "def get_zero_dim_persistent_homology(dist_matrix):\n",
    "    \n",
    "    dist_matrix = torch.unique(dist_matrix, dim=0)\n",
    "    dist_matrix = torch.unique(dist_matrix, dim=1)\n",
    "\n",
    "    upp_diag = torch.triu(dist_matrix, diagonal=1)\n",
    "\n",
    "    ff = upp_diag.sort()\n",
    "\n",
    "    sorted_upper_diag_edges = ff[0]\n",
    "\n",
    "    sorted_upper_diag_indices = ff[1]\n",
    "\n",
    "    flattened_uppdg_edges = torch.flatten(sorted_upper_diag_edges)\n",
    "\n",
    "    non_zero_flattened_uppdg_edges = flattened_uppdg_edges[flattened_uppdg_edges.nonzero()]\n",
    "\n",
    "    non_zero_flattened_uppdg_edges = non_zero_flattened_uppdg_edges.reshape(non_zero_flattened_uppdg_edges.shape[0])\n",
    "\n",
    "    increasing_edges = non_zero_flattened_uppdg_edges.sort()[0]\n",
    "    increasing_edges = torch.unique(increasing_edges, dim=0)\n",
    "    \n",
    "    #print('increasing_edges', increasing_edges)\n",
    "    \n",
    "    selected_edges = torch.tensor([])\n",
    "    dead_indices = torch.tensor([])\n",
    "    potential_triangles = torch.tensor([])\n",
    "    edge_leads_to_loop = False\n",
    "\n",
    "    for i in range(increasing_edges.shape[0]):\n",
    "        a = (upp_diag == increasing_edges[i]).nonzero(as_tuple=False)\n",
    "\n",
    "        if(selected_edges.shape[0] > 1):\n",
    "            edge_leads_to_loop = expecting_a_cycle(selected_edges, a)\n",
    "\n",
    "        if(not(edge_leads_to_loop)):\n",
    "            selected_edges = torch.cat(((selected_edges, a)), 0)\n",
    "\n",
    "    #print('selected_edges', selected_edges)\n",
    "    zeroD_PH = torch.tensor([])\n",
    "    for i in range(selected_edges.shape[0]):    \n",
    "        death = dist_matrix[int(selected_edges[i][0])][int(selected_edges[i][1])]\n",
    "        death = death.reshape(1,1)    \n",
    "        zeroD_PH = torch.cat(((zeroD_PH, death)), 0)\n",
    "\n",
    "    births = torch.zeros(zeroD_PH.shape[0], 1)\n",
    "    zeroD_PH_births_deaths = torch.cat((births, zeroD_PH ),1)\n",
    "\n",
    "    return selected_edges, zeroD_PH_births_deaths\n",
    "\n",
    "    \n",
    "def indices_array_any_size(m, n):\n",
    "    r = np.arange(n)\n",
    "    s = np.arange(m)\n",
    "    out = np.empty((n,m,2),dtype=int)\n",
    "    out[:,:,0] = r[:,None]\n",
    "    out[:,:,1] = s\n",
    "    output = out.reshape(m*n,2)\n",
    "    output = torch.tensor(output).type(torch.FloatTensor)\n",
    "\n",
    "    return output\n",
    "\n",
    "\n",
    "#Computationally efficient than  previous method to calculate M \n",
    "def compute_M(img_indices, p=2):\n",
    "    x = img_indices\n",
    "    x_flat = x.view(x.size(0), -1)\n",
    "    distances = torch.norm(x_flat[:, None] - x_flat, dim=2, p=p)\n",
    "    \n",
    "    return distances**2\n",
    "\n",
    "\n",
    "def wass_distance(image1,image2, M_matrix, reg):\n",
    "    gs = ((image1 + 10**(-6)).reshape(M_matrix.shape[0],1)) / torch.sum((image1))\n",
    "    h = ((image2 + 10**(-6)).reshape(M_matrix.shape[0],1)) / torch.sum((image2))\n",
    "    # 10**(-10) added to avoid numerical errors in sinkhorn\n",
    "    wassDistance = ot.sinkhorn2(h, gs, M_matrix, reg)\n",
    "    #0.04 is the regularization parameter. You can play around with it \n",
    "    return wassDistance\n"
   ]
  },
  {
   "cell_type": "code",
   "execution_count": 10,
   "metadata": {},
   "outputs": [],
   "source": [
    "# load trained rAE and bAE\n",
    "latent_dims = [20, 18, 16, 14, 12, 10, 8, 6, 4, 2]\n",
    "all_hyb_base_models = []\n",
    "\n",
    "Analys_size = 20\n",
    "\n",
    "all_test_coeffs = []\n",
    "all_X_p = []\n",
    "for lat_dim in latent_dims:\n",
    "    deg_quad = 20\n",
    "    u_ob = jmp_solver1.surrogates.Polynomial(n=deg_quad,p=np.inf, dim=2)\n",
    "    x = np.linspace(-1,1,32)\n",
    "    X_p = u_ob.data_axes([x,x]).T\n",
    "\n",
    "    testImages = torch.load('/home/ramana44/topological-analysis-of-curved-spaces-and-hybridization-of-autoencoders-STORAGE_SPACE/FMNIST_RK_coeffs/testImages.pt',map_location=torch.device('cpu'))\n",
    "    testCoeffs = torch.load('/home/ramana44/topological-analysis-of-curved-spaces-and-hybridization-of-autoencoders-STORAGE_SPACE/FMNIST_RK_coeffs/coeffs_saved/LSTSQ_testcoeffs_FMNIST_dq'+str(deg_quad)+'.pt',map_location=torch.device('cpu'))\n",
    "\n",
    "    testImages = testImages[:Analys_size]\n",
    "    testCoeffs = testCoeffs[:Analys_size]\n",
    "\n",
    "    path_hyb = '/home/ramana44/topological-analysis-of-curved-spaces-and-hybridization-of-autoencoders-STORAGE_SPACE/FMNIST_RK_space/output/MRT_full/test_run_saving/'\n",
    "    path_unhyb = '/home/ramana44/FashionMNIST5LayersTrials/output/MRT_full/test_run_saving/'\n",
    "\n",
    "    #specify hyperparameters\n",
    "    reg_nodes_sampling = 'legendre'\n",
    "    alpha = 0.5\n",
    "    frac = 0.4\n",
    "    hidden_size = 100\n",
    "    deg_poly = 21\n",
    "    deg_poly_forRK = 21\n",
    "    latent_dim = lat_dim\n",
    "    lr = 0.0001\n",
    "    no_layers = 3\n",
    "    no_epochs= 100\n",
    "    name_hyb = '_'+reg_nodes_sampling+'_'+str(frac)+'_'+str(alpha)+'_'+str(hidden_size)+'_'+str(deg_poly_forRK)+'_'+str(latent_dim)+'_'+str(lr)+'_'+str(no_layers)#+'_'+str(no_epochs)\n",
    "    name_unhyb = '_'+reg_nodes_sampling+'__'+str(frac)+'_'+str(alpha)+'_'+str(hidden_size)+'_'+str(deg_poly)+'_'+str(latent_dim)+'_'+str(lr)+'_'+str(no_layers)#+'_'+str(no_epochs)\n",
    "\n",
    "    inp_dim_hyb = (deg_quad+1)*(deg_quad+1)\n",
    "\n",
    "    inp_dim_unhyb = [1,32,32]\n",
    "\n",
    "    RK_model_reg = AE(inp_dim_hyb, hidden_size, latent_dim, no_layers, Sin()).to(device)\n",
    "    #RK_model_base = AE(inp_dim_hyb, hidden_size, latent_dim, no_layers, Sin()).to(device)\n",
    "\n",
    "    RK_model_reg.load_state_dict(torch.load(path_hyb+'model_regLSTQS'+str(deg_quad)+''+name_hyb, map_location=torch.device('cpu')))\n",
    "    #RK_model_base.load_state_dict(torch.load(path_hyb+'model_baseLSTQS'+str(deg_quad)+''+name_hyb, map_location=torch.device('cpu')))\n",
    "\n",
    "    all_hyb_base_models.append(RK_model_reg)\n",
    "    all_test_coeffs.append(testCoeffs)\n",
    "    all_X_p.append(X_p)\n"
   ]
  },
  {
   "cell_type": "code",
   "execution_count": 26,
   "metadata": {},
   "outputs": [
    {
     "data": {
      "text/plain": [
       "torch.Size([20, 1, 32, 32])"
      ]
     },
     "execution_count": 26,
     "metadata": {},
     "output_type": "execute_result"
    }
   ],
   "source": [
    "testImages.shape"
   ]
  },
  {
   "cell_type": "code",
   "execution_count": 12,
   "metadata": {},
   "outputs": [
    {
     "name": "stderr",
     "output_type": "stream",
     "text": [
      "/tmp/ipykernel_50842/557051121.py:4: UserWarning: To copy construct from a tensor, it is recommended to use sourceTensor.clone().detach() or sourceTensor.clone().detach().requires_grad_(True), rather than torch.tensor(sourceTensor).\n",
      "  rec_bAE_test = torch.tensor(rec_bAE_test, requires_grad=False)\n"
     ]
    }
   ],
   "source": [
    "\n",
    "all_rec_bAE_test = []\n",
    "for i in range(len(latent_dims)):\n",
    "    rec_bAE_test = all_hyb_base_models[i].encoder(all_test_coeffs[i].float())#.view(all_test_coeffs[i].shape)\n",
    "    rec_bAE_test = torch.tensor(rec_bAE_test, requires_grad=False)\n",
    "    all_rec_bAE_test.append(rec_bAE_test)"
   ]
  },
  {
   "cell_type": "code",
   "execution_count": 13,
   "metadata": {},
   "outputs": [
    {
     "data": {
      "text/plain": [
       "torch.Size([20, 20])"
      ]
     },
     "execution_count": 13,
     "metadata": {},
     "output_type": "execute_result"
    }
   ],
   "source": [
    "latent_pt_cld = all_rec_bAE_test[0]\n",
    "\n",
    "latent_pt_cld = latent_pt_cld[:40]\n",
    "\n",
    "latent_pt_cld.shape"
   ]
  },
  {
   "cell_type": "code",
   "execution_count": 54,
   "metadata": {},
   "outputs": [],
   "source": [
    "dist_matrix_lat1024 = _compute_distance_matrix(testImages, p=2)\n",
    "edges_lat1024, edge_lengths_lat1024 = get_zero_dim_persistent_homology(dist_matrix_lat1024)"
   ]
  },
  {
   "cell_type": "code",
   "execution_count": 55,
   "metadata": {},
   "outputs": [],
   "source": [
    "dist_matrix_lat20 = _compute_distance_matrix(all_rec_bAE_test[0], p=2)\n",
    "edges_lat20, edge_lengths_lat20 = get_zero_dim_persistent_homology(dist_matrix_lat20)"
   ]
  },
  {
   "cell_type": "code",
   "execution_count": 57,
   "metadata": {},
   "outputs": [],
   "source": [
    "dist_matrix_lat18 = _compute_distance_matrix(all_rec_bAE_test[1], p=2)\n",
    "edges_lat18, edge_lengths_lat18 = get_zero_dim_persistent_homology(dist_matrix_lat18)"
   ]
  },
  {
   "cell_type": "code",
   "execution_count": 59,
   "metadata": {},
   "outputs": [],
   "source": [
    "dist_matrix_lat16 = _compute_distance_matrix(all_rec_bAE_test[2], p=2)\n",
    "edges_lat16, edge_lengths_lat16 = get_zero_dim_persistent_homology(dist_matrix_lat16)"
   ]
  },
  {
   "cell_type": "code",
   "execution_count": 63,
   "metadata": {},
   "outputs": [],
   "source": [
    "dist_matrix_lat14 = _compute_distance_matrix(all_rec_bAE_test[3], p=2)\n",
    "edges_lat14, edge_lengths_lat14 = get_zero_dim_persistent_homology(dist_matrix_lat14)"
   ]
  },
  {
   "cell_type": "code",
   "execution_count": 66,
   "metadata": {},
   "outputs": [
    {
     "data": {
      "text/plain": [
       "[20, 18, 16, 14, 12, 10, 8, 6, 4, 2]"
      ]
     },
     "execution_count": 66,
     "metadata": {},
     "output_type": "execute_result"
    }
   ],
   "source": [
    "latent_dims"
   ]
  },
  {
   "cell_type": "code",
   "execution_count": 85,
   "metadata": {},
   "outputs": [],
   "source": [
    "#get image pixel indices combinations \n",
    "imageIndices_fmnist = indices_array_any_size(edges_lat1024.shape[0], edges_lat1024.shape[1])  #(145, 174)\n",
    "##get matrix M , One time calculation of this matrix is sufficient. Same matrix could be\n",
    "#used for similar image dimensions\n",
    "M_fmnist = compute_M(imageIndices_fmnist, p=2)"
   ]
  },
  {
   "cell_type": "code",
   "execution_count": 87,
   "metadata": {},
   "outputs": [
    {
     "name": "stderr",
     "output_type": "stream",
     "text": [
      "/home/ramana44/.conda/envs/myenv/lib/python3.9/site-packages/ot/bregman.py:492: UserWarning: Warning: numerical errors at iteration 541\n",
      "  warnings.warn('Warning: numerical errors at iteration %d' % ii)\n",
      "/home/ramana44/.conda/envs/myenv/lib/python3.9/site-packages/ot/bregman.py:517: UserWarning: Sinkhorn did not converge. You might want to increase the number of iterations `numItermax` or the regularization parameter `reg`.\n",
      "  warnings.warn(\"Sinkhorn did not converge. You might want to \"\n",
      "/home/ramana44/.conda/envs/myenv/lib/python3.9/site-packages/ot/bregman.py:492: UserWarning: Warning: numerical errors at iteration 532\n",
      "  warnings.warn('Warning: numerical errors at iteration %d' % ii)\n",
      "/home/ramana44/.conda/envs/myenv/lib/python3.9/site-packages/ot/bregman.py:492: UserWarning: Warning: numerical errors at iteration 598\n",
      "  warnings.warn('Warning: numerical errors at iteration %d' % ii)\n",
      "/home/ramana44/.conda/envs/myenv/lib/python3.9/site-packages/ot/bregman.py:492: UserWarning: Warning: numerical errors at iteration 278\n",
      "  warnings.warn('Warning: numerical errors at iteration %d' % ii)\n",
      "/home/ramana44/.conda/envs/myenv/lib/python3.9/site-packages/ot/bregman.py:492: UserWarning: Warning: numerical errors at iteration 295\n",
      "  warnings.warn('Warning: numerical errors at iteration %d' % ii)\n",
      "/home/ramana44/.conda/envs/myenv/lib/python3.9/site-packages/ot/bregman.py:492: UserWarning: Warning: numerical errors at iteration 289\n",
      "  warnings.warn('Warning: numerical errors at iteration %d' % ii)\n",
      "/home/ramana44/.conda/envs/myenv/lib/python3.9/site-packages/ot/bregman.py:492: UserWarning: Warning: numerical errors at iteration 156\n",
      "  warnings.warn('Warning: numerical errors at iteration %d' % ii)\n",
      "/home/ramana44/.conda/envs/myenv/lib/python3.9/site-packages/ot/bregman.py:492: UserWarning: Warning: numerical errors at iteration 807\n",
      "  warnings.warn('Warning: numerical errors at iteration %d' % ii)\n"
     ]
    }
   ],
   "source": [
    "all_MSEs = []\n",
    "all_wass_dists = []\n",
    "for i in range(len(latent_dims)):\n",
    "    dist_matrix_lat = _compute_distance_matrix(all_rec_bAE_test[i], p=2)\n",
    "    edges_lat, edge_lengths_lat = get_zero_dim_persistent_homology(dist_matrix_lat)\n",
    "    mse = torch.mean(torch.sqrt((edges_lat1024 - edges_lat)**2))\n",
    "    all_MSEs.append(mse)\n",
    "    wasserstein_distance = wass_distance(edges_lat1024, edges_lat, M_fmnist, 0.09)\n",
    "    all_wass_dists.append(wasserstein_distance)"
   ]
  },
  {
   "cell_type": "code",
   "execution_count": 70,
   "metadata": {},
   "outputs": [
    {
     "data": {
      "text/plain": [
       "[<matplotlib.lines.Line2D at 0x2aab6365eeb0>]"
      ]
     },
     "execution_count": 70,
     "metadata": {},
     "output_type": "execute_result"
    },
    {
     "data": {
      "image/png": "[encoded data removed]",
      "text/plain": [
       "<Figure size 640x480 with 1 Axes>"
      ]
     },
     "metadata": {},
     "output_type": "display_data"
    }
   ],
   "source": [
    "plt.plot(all_MSEs)"
   ]
  },
  {
   "cell_type": "code",
   "execution_count": 88,
   "metadata": {},
   "outputs": [
    {
     "name": "stderr",
     "output_type": "stream",
     "text": [
      "/home/ramana44/.conda/envs/myenv/lib/python3.9/site-packages/numpy/core/shape_base.py:65: FutureWarning: The input object of type 'Tensor' is an array-like implementing one of the corresponding protocols (`__array__`, `__array_interface__` or `__array_struct__`); but not a sequence (or 0-D). In the future, this object will be coerced as if it was first converted using `np.array(obj)`. To retain the old behaviour, you have to either modify the type 'Tensor', or assign to an empty array created with `np.empty(correct_shape, dtype=object)`.\n",
      "  ary = asanyarray(ary)\n",
      "/home/ramana44/.conda/envs/myenv/lib/python3.9/site-packages/numpy/core/shape_base.py:65: VisibleDeprecationWarning: Creating an ndarray from ragged nested sequences (which is a list-or-tuple of lists-or-tuples-or ndarrays with different lengths or shapes) is deprecated. If you meant to do this, you must specify 'dtype=object' when creating the ndarray.\n",
      "  ary = asanyarray(ary)\n"
     ]
    },
    {
     "data": {
      "text/plain": [
       "[<matplotlib.lines.Line2D at 0x2aab63737280>]"
      ]
     },
     "execution_count": 88,
     "metadata": {},
     "output_type": "execute_result"
    },
    {
     "data": {
      "image/png": "[encoded data removed]",
      "text/plain": [
       "<Figure size 640x480 with 1 Axes>"
      ]
     },
     "metadata": {},
     "output_type": "display_data"
    }
   ],
   "source": [
    "plt.plot(all_wass_dists)"
   ]
  },
  {
   "cell_type": "code",
   "execution_count": 74,
   "metadata": {},
   "outputs": [],
   "source": []
  }
 ],
 "metadata": {
  "interpreter": {
   "hash": "5ee815085acdfe8ec7427c3e245a848b8e2a21c8f3a89c6ee352c1052f53cf80"
  },
  "kernelspec": {
   "display_name": "Python 3.9.7 ('myenv': conda)",
   "language": "python",
   "name": "python3"
  },
  "language_info": {
   "codemirror_mode": {
    "name": "ipython",
    "version": 3
   },
   "file_extension": ".py",
   "mimetype": "text/x-python",
   "name": "python",
   "nbconvert_exporter": "python",
   "pygments_lexer": "ipython3",
   "version": "3.9.7"
  },
  "orig_nbformat": 4
 },
 "nbformat": 4,
 "nbformat_minor": 2
}
