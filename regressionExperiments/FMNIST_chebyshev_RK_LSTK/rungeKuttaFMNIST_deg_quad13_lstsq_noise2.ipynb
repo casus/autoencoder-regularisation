{
 "cells": [
  {
   "cell_type": "code",
   "execution_count": 1,
   "metadata": {},
   "outputs": [],
   "source": [
    "import numpy as np\n",
    "import minterpy as mp\n",
    "from minterpy.extras.regression import *\n",
    "from matplotlib import pyplot as plt\n",
    "\n",
    "import torch\n",
    "import torchvision\n",
    "from torchvision import transforms, datasets\n",
    "device = torch.device(\"cuda\" if torch.cuda.is_available() else \"cpu\")\n",
    "from sklearn.neighbors import NearestNeighbors\n",
    "\n",
    "from skimage.metrics import structural_similarity as ssim\n",
    "from skimage.metrics import peak_signal_noise_ratio as psnr\n",
    "\n",
    "from matplotlib.colors import Normalize"
   ]
  },
  {
   "cell_type": "code",
   "execution_count": 2,
   "metadata": {},
   "outputs": [],
   "source": [
    "def getFashionMNIST(batch_size = 10):\n",
    "    fashionmnist_data = torchvision.datasets.FashionMNIST(download=True, root = 'data/fashionmnist', transform = \n",
    "                                                                                 transforms.Compose([transforms.Resize(32),\n",
    "                                                                                 transforms.ToTensor(), \n",
    "                                                                                 transforms.Lambda(lambda x: x.repeat(1, 1, 1))\n",
    "                                                                                 ]))\n",
    "\n",
    "    fashionmnist_data_test = torchvision.datasets.FashionMNIST(download=True, root = 'data/fashionmnist', train=False, transform = \n",
    "                                                                                 transforms.Compose([transforms.Resize(32),\n",
    "                                                                                 transforms.ToTensor(), \n",
    "                                                                                 transforms.Lambda(lambda x: x.repeat(1, 1, 1))\n",
    "                                                                                 ]))\n",
    "\n",
    "    train_loader = torch.utils.data.DataLoader(fashionmnist_data,\n",
    "                                              batch_size=batch_size,\n",
    "                                              shuffle=False,\n",
    "                                              num_workers=16)\n",
    "\n",
    "    test_loader = torch.utils.data.DataLoader(fashionmnist_data_test,\n",
    "                                              batch_size=batch_size,\n",
    "                                              shuffle=False,\n",
    "                                              num_workers=16)\n",
    "\n",
    "    return train_loader, test_loader\n",
    "\n",
    "\n",
    "\n",
    "def getDataset(dataset = \"MNIST\", batch_size = 10):\n",
    "    if(dataset == \"MNIST\"):\n",
    "        train_loader, test_loader = getMNIST(batch_size)\n",
    "        noChannels,dx, dy = train_loader.dataset.__getitem__(1)[0].shape\n",
    "    elif(dataset == \"FashionMNIST\"):\n",
    "        train_loader, test_loader = getFashionMNIST(batch_size)\n",
    "        noChannels, dx, dy = train_loader.dataset.__getitem__(1)[0].shape\n",
    "    elif(dataset == \"Cifar10\"):\n",
    "        train_loader, test_loader = getCifar10(batch_size)\n",
    "        noChannels, dx, dy = train_loader.dataset.__getitem__(1)[0].shape\n",
    "        \"\"\"\n",
    "    elif(dataset == \"cityscapes\"):\n",
    "        train_loader, test_loader = getcityscapes(batch_size)\n",
    "        noChannels, dx, dy = train_loader.dataset.__getitem__(1)[0].shape\n",
    "        \"\"\"\n",
    "    else:\n",
    "        return None, None, None, None, None    \n",
    "        \n",
    "    return train_loader, test_loader, noChannels, dx, dy"
   ]
  },
  {
   "cell_type": "code",
   "execution_count": 3,
   "metadata": {},
   "outputs": [
    {
     "name": "stderr",
     "output_type": "stream",
     "text": [
      "/home/chethan/.local/lib/python3.9/site-packages/torchvision/datasets/mnist.py:498: UserWarning: The given NumPy array is not writeable, and PyTorch does not support non-writeable tensors. This means you can write to the underlying (supposedly non-writeable) NumPy array using the tensor. You may want to copy the array to protect its data or make it writeable before converting it to a tensor. This type of warning will be suppressed for the rest of this program. (Triggered internally at  ../torch/csrc/utils/tensor_numpy.cpp:180.)\n",
      "  return torch.from_numpy(parsed.astype(m[2], copy=False)).view(*s)\n"
     ]
    }
   ],
   "source": [
    "train_loader, test_loader, noChannels, dx, dy = getDataset(\"FashionMNIST\", 60000)  # FashionMNIST , MNIST"
   ]
  },
  {
   "cell_type": "code",
   "execution_count": 4,
   "metadata": {},
   "outputs": [],
   "source": [
    "for inum, (batch_x, label) in enumerate(train_loader):\n",
    "    break\n",
    "    "
   ]
  },
  {
   "cell_type": "code",
   "execution_count": 5,
   "metadata": {},
   "outputs": [],
   "source": [
    "orig = batch_x[5][0]"
   ]
  },
  {
   "cell_type": "code",
   "execution_count": 6,
   "metadata": {},
   "outputs": [],
   "source": [
    "import numpy as np\n",
    "import torch\n",
    "import sys\n",
    "\n",
    "\n",
    "from jmp_solver.sobolev import Sobolev\n",
    "\n",
    "import jmp_solver.surrogates\n",
    "import time\n",
    "\n",
    "from jmp_solver.diffeomorphisms import hyper_rect\n",
    "import matplotlib\n",
    "\n",
    "matplotlib.rcdefaults() \n",
    "\n",
    "device = torch.device('cuda' if torch.cuda.is_available() else 'cpu')\n",
    "torch.set_default_dtype(torch.float64)"
   ]
  },
  {
   "cell_type": "code",
   "execution_count": 7,
   "metadata": {},
   "outputs": [],
   "source": [
    "deg_quad = 13\n",
    "rect = rect = np.array([[-1.0, 1.0], [-1.0, 1.0]])\n",
    "diffeo_param = hyper_rect(*rect)\n",
    "sob_param = Sobolev(deg=deg_quad, dim=2)\n",
    "##### Sobolev norm for the inteprolation\n",
    "sob_param.set_s(0)\n",
    "#####\n",
    "x_plt, _, _, x, _, _ = sob_param.get_quad()\n",
    "metric_param = sob_param.metric()\n",
    "W_param = sob_param.get_leja_weights()\n",
    "u_ob = jmp_solver.surrogates.Polynomial(n=deg_quad,p=np.inf, dim=2)\n",
    "metric_2d = sob_param.metric(weak=True)\n",
    "x_l = sob_param.get_xs()\n",
    "X_p = u_ob.data_axes([x,x]).T"
   ]
  },
  {
   "cell_type": "code",
   "execution_count": 8,
   "metadata": {},
   "outputs": [],
   "source": [
    "u_ob = jmp_solver.surrogates.Polynomial(n=deg_quad,p=np.inf, dim=2)\n",
    "x = np.linspace(-1,1,32)\n",
    "X_p = u_ob.data_axes([x,x]).T\n",
    "\n"
   ]
  },
  {
   "cell_type": "code",
   "execution_count": 9,
   "metadata": {},
   "outputs": [
    {
     "name": "stderr",
     "output_type": "stream",
     "text": [
      "/tmp/ipykernel_8401/816146761.py:2: FutureWarning: `rcond` parameter will change to the default of machine precision times ``max(M, N)`` where M and N are the input matrix dimensions.\n",
      "To use the future default and silence this warning we advise to pass `rcond=None`, to keep using the old, explicitly pass `rcond=-1`.\n",
      "  get = np.linalg.lstsq(np.array(X_p), orig.reshape(32*32), rcond='warn')\n"
     ]
    }
   ],
   "source": [
    "# Get coefficients using lstsq\n",
    "get = np.linalg.lstsq(np.array(X_p), orig.reshape(32*32), rcond='warn')\n",
    "testRK = torch.tensor(get[0])"
   ]
  },
  {
   "cell_type": "code",
   "execution_count": 10,
   "metadata": {},
   "outputs": [],
   "source": [
    "#testRK = get_all_thetas(orig)\n",
    "testRK = testRK.float()\n",
    "recIM = torch.matmul(X_p.float(), testRK.T).T\n",
    "recIM = recIM.reshape(32,32)"
   ]
  },
  {
   "cell_type": "code",
   "execution_count": 11,
   "metadata": {},
   "outputs": [
    {
     "data": {
      "text/plain": [
       "<matplotlib.image.AxesImage at 0x7fd810583c40>"
      ]
     },
     "execution_count": 11,
     "metadata": {},
     "output_type": "execute_result"
    },
    {
     "data": {
      "image/png": "[encoded data removed]",
      "text/plain": [
       "<Figure size 640x480 with 1 Axes>"
      ]
     },
     "metadata": {},
     "output_type": "display_data"
    }
   ],
   "source": [
    "plt.imshow(orig)"
   ]
  },
  {
   "cell_type": "code",
   "execution_count": 12,
   "metadata": {},
   "outputs": [
    {
     "data": {
      "text/plain": [
       "<matplotlib.image.AxesImage at 0x7fd8104f0430>"
      ]
     },
     "execution_count": 12,
     "metadata": {},
     "output_type": "execute_result"
    },
    {
     "data": {
      "image/png": "[encoded data removed]",
      "text/plain": [
       "<Figure size 640x480 with 1 Axes>"
      ]
     },
     "metadata": {},
     "output_type": "display_data"
    }
   ],
   "source": [
    "plt.imshow(recIM)"
   ]
  },
  {
   "cell_type": "code",
   "execution_count": 13,
   "metadata": {},
   "outputs": [
    {
     "data": {
      "text/plain": [
       "16.381109101460616"
      ]
     },
     "execution_count": 13,
     "metadata": {},
     "output_type": "execute_result"
    }
   ],
   "source": [
    "# PSNR of direct backward reconstruction of coefficients without perturbation \n",
    "orig_normal = Normalize()(orig)\n",
    "recIM_norm = Normalize()(recIM)\n",
    "psnr(orig_normal, recIM_norm, data_range=1.)"
   ]
  },
  {
   "cell_type": "code",
   "execution_count": 14,
   "metadata": {},
   "outputs": [
    {
     "data": {
      "text/plain": [
       "0.01150427"
      ]
     },
     "execution_count": 14,
     "metadata": {},
     "output_type": "execute_result"
    }
   ],
   "source": [
    "# MSE of direct reconstruction\n",
    "\n",
    "np.mean(((orig_normal - np.array(recIM_norm))**2)*0.5)"
   ]
  },
  {
   "cell_type": "code",
   "execution_count": 15,
   "metadata": {},
   "outputs": [],
   "source": [
    "prozs = [0.02, 0.2, 0.5, 0.7] "
   ]
  },
  {
   "cell_type": "code",
   "execution_count": 16,
   "metadata": {},
   "outputs": [],
   "source": [
    "orig = np.array(orig)"
   ]
  },
  {
   "cell_type": "code",
   "execution_count": 17,
   "metadata": {},
   "outputs": [],
   "source": [
    "rand_perturb = []\n",
    "\n",
    "testRK_pert = np.array(testRK)\n",
    "testRK_pert = testRK_pert.reshape(1,testRK_pert.shape[0])\n",
    "for proz in prozs:\n",
    "    \n",
    "    rand_perturb.append(np.random.rand(1,testRK_pert.shape[1])*(np.max(testRK_pert)-np.min(testRK_pert))*proz)"
   ]
  },
  {
   "cell_type": "code",
   "execution_count": 18,
   "metadata": {},
   "outputs": [
    {
     "data": {
      "text/plain": [
       "(1, 196)"
      ]
     },
     "execution_count": 18,
     "metadata": {},
     "output_type": "execute_result"
    }
   ],
   "source": [
    "rand_perturb[0].shape"
   ]
  },
  {
   "cell_type": "code",
   "execution_count": 19,
   "metadata": {},
   "outputs": [],
   "source": [
    "orig_perturb = []\n",
    "for rand_transform in rand_perturb:\n",
    "    orig_perturb.append(torch.from_numpy(np.add(testRK_pert,rand_transform)).reshape(rand_transform.shape))#.to(device))\n",
    "    #rec_perturb.append(model(orig_perturb[-1].float()))"
   ]
  },
  {
   "cell_type": "code",
   "execution_count": 20,
   "metadata": {},
   "outputs": [
    {
     "name": "stderr",
     "output_type": "stream",
     "text": [
      "/tmp/ipykernel_8401/1897946234.py:4: UserWarning: To copy construct from a tensor, it is recommended to use sourceTensor.clone().detach() or sourceTensor.clone().detach().requires_grad_(True), rather than torch.tensor(sourceTensor).\n",
      "  pert_coeff = torch.tensor(orig_perturb[0]).float()\n"
     ]
    }
   ],
   "source": [
    "# reconstruction from 10% perturbed\n",
    "#testRK = get_all_thetas(orig)\n",
    "#testRK = testRK.float()\n",
    "pert_coeff = torch.tensor(orig_perturb[0]).float()\n",
    "recIM_pert10 = torch.matmul(X_p.float(), pert_coeff.T).T\n",
    "recIM_pert10 = recIM_pert10.reshape(32,32)"
   ]
  },
  {
   "cell_type": "code",
   "execution_count": 21,
   "metadata": {},
   "outputs": [
    {
     "data": {
      "text/plain": [
       "(1, 196)"
      ]
     },
     "execution_count": 21,
     "metadata": {},
     "output_type": "execute_result"
    }
   ],
   "source": [
    "testRK_pert.shape"
   ]
  },
  {
   "cell_type": "code",
   "execution_count": 22,
   "metadata": {},
   "outputs": [
    {
     "data": {
      "text/plain": [
       "2.2417324e-05"
      ]
     },
     "execution_count": 22,
     "metadata": {},
     "output_type": "execute_result"
    }
   ],
   "source": [
    "#MSE of coefficient perturbnbation\n",
    "np.mean(((testRK_pert - np.array(pert_coeff))**2)*0.5)"
   ]
  },
  {
   "cell_type": "code",
   "execution_count": 23,
   "metadata": {},
   "outputs": [
    {
     "data": {
      "text/plain": [
       "<matplotlib.image.AxesImage at 0x7fd81046b940>"
      ]
     },
     "execution_count": 23,
     "metadata": {},
     "output_type": "execute_result"
    },
    {
     "data": {
      "image/png": "[encoded data removed]",
      "text/plain": [
       "<Figure size 640x480 with 1 Axes>"
      ]
     },
     "metadata": {},
     "output_type": "display_data"
    }
   ],
   "source": [
    "plt.imshow(recIM_pert10)"
   ]
  },
  {
   "cell_type": "code",
   "execution_count": 24,
   "metadata": {},
   "outputs": [
    {
     "data": {
      "text/plain": [
       "(32, 32)"
      ]
     },
     "execution_count": 24,
     "metadata": {},
     "output_type": "execute_result"
    }
   ],
   "source": [
    "orig_normal.shape"
   ]
  },
  {
   "cell_type": "code",
   "execution_count": 25,
   "metadata": {},
   "outputs": [
    {
     "data": {
      "text/plain": [
       "15.62492362404582"
      ]
     },
     "execution_count": 25,
     "metadata": {},
     "output_type": "execute_result"
    }
   ],
   "source": [
    "# PSNR of direct backward reconstruction of coefficients without perturbation \n",
    "orig_normal = Normalize()(orig)\n",
    "recIM_pert10_norm = Normalize()(recIM_pert10)\n",
    "psnr(orig_normal, recIM_pert10_norm, data_range=1.)"
   ]
  },
  {
   "cell_type": "code",
   "execution_count": 26,
   "metadata": {},
   "outputs": [
    {
     "data": {
      "text/plain": [
       "0.013692339"
      ]
     },
     "execution_count": 26,
     "metadata": {},
     "output_type": "execute_result"
    }
   ],
   "source": [
    "#what is MSE of initial and final images\n",
    "\n",
    "np.mean(((orig_normal - recIM_pert10_norm)**2)*0.5)"
   ]
  },
  {
   "cell_type": "code",
   "execution_count": null,
   "metadata": {},
   "outputs": [],
   "source": []
  }
 ],
 "metadata": {
  "interpreter": {
   "hash": "3692b3ef59e7728d2be3452101a8b78f0eb4de921f81f985613a05eb18e1c282"
  },
  "kernelspec": {
   "display_name": "Python 3.9.7 ('myenv')",
   "language": "python",
   "name": "python3"
  },
  "language_info": {
   "codemirror_mode": {
    "name": "ipython",
    "version": 3
   },
   "file_extension": ".py",
   "mimetype": "text/x-python",
   "name": "python",
   "nbconvert_exporter": "python",
   "pygments_lexer": "ipython3",
   "version": "3.9.7"
  },
  "orig_nbformat": 4
 },
 "nbformat": 4,
 "nbformat_minor": 2
}
