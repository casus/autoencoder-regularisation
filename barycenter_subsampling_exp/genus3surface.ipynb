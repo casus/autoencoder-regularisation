{
 "cells": [
  {
   "cell_type": "code",
   "execution_count": 1,
   "id": "181717e4",
   "metadata": {},
   "outputs": [],
   "source": [
    "import sympy as sp\n",
    "import minterpy as mp\n",
    "import numpy as np\n",
    "from minterpy.pointcloud_utils import *\n",
    "\n",
    "from mpl_toolkits import mplot3d\n",
    "%matplotlib inline\n",
    "\n",
    "from mpl_toolkits.mplot3d import axes3d\n",
    "\n",
    "import torch\n",
    "import torchvision\n",
    "from torchvision import transforms, datasets\n",
    "\n",
    "import random\n",
    "import numpy as np\n",
    "import matplotlib.pyplot as plt\n",
    "\n",
    "import os\n",
    "from operator import itemgetter\n",
    "\n",
    "device = torch.device('cuda' if torch.cuda.is_available() else 'cpu')\n",
    "\n",
    "import ot\n",
    "\n",
    "from sklearn.neighbors import NearestNeighbors\n",
    "\n",
    "import ripser\n",
    "import persim\n",
    "from persim import plot_diagrams\n",
    "\n",
    "from operator import itemgetter\n",
    "\n",
    "\n",
    "#do pip installs as follows to use vedo for plotting point clouds\n",
    "#pip install vedo\n",
    "#pip install ipyvtklink\n",
    "\n",
    "import numpy as np\n",
    "from vedo import *\n",
    "\n",
    "import matplotlib.pyplot\n",
    "from mpl_toolkits.mplot3d import Axes3D"
   ]
  },
  {
   "cell_type": "code",
   "execution_count": 2,
   "id": "139b288d",
   "metadata": {},
   "outputs": [],
   "source": [
    "def give_centeroid(arr):\n",
    "    length = arr.shape[0]\n",
    "    sum_x = np.sum(arr[:, 0])\n",
    "    sum_y = np.sum(arr[:, 1])\n",
    "    sum_z = np.sum(arr[:, 2])\n",
    "    return np.array([[sum_x/length, sum_y/length, sum_z/length]])"
   ]
  },
  {
   "cell_type": "code",
   "execution_count": 3,
   "id": "90d8e3be",
   "metadata": {},
   "outputs": [],
   "source": [
    "def give_next_neighbours_barycenter_indices(batch_x, input_barycenter, remaining_indices, sweep_radsius):\n",
    "    \n",
    "  #sweep_radsius = 0.2\n",
    "  #num_neighbours = int(batch_x.shape[0] / no_of_barycenetrs_required)\n",
    "    \n",
    "  wasserDistance = []\n",
    "  distance_cum_index = np.array([])\n",
    "\n",
    "  for j in remaining_indices:\n",
    "    \n",
    "    wassDistance = dist = np.linalg.norm(batch_x[j]-input_barycenter)\n",
    "\n",
    "    distance_cum_index = np.concatenate((distance_cum_index, np.array([wassDistance, j])), axis = 0)\n",
    "   \n",
    "  distance_cum_index = distance_cum_index.reshape(int(distance_cum_index.shape[0]/2), 2)\n",
    "  distance_cum_index = sorted(distance_cum_index, key=itemgetter(0))\n",
    "  \n",
    "  distance_cum_index = np.array(distance_cum_index)\n",
    "  \n",
    "  only_distances = distance_cum_index[:,0]\n",
    "  #print(only_distances)\n",
    "  where_is_it = np.where( only_distances < sweep_radsius ) \n",
    "  #print('where_is_it', where_is_it)  \n",
    "  #print('where_is_it[0][-1]', where_is_it[0][-1])\n",
    "  num_neighbours = where_is_it[0][-1] +1\n",
    "  #print('where_is_it[0]', where_is_it[0])\n",
    "  #print('where_is_it[0][-1]', where_is_it[0][-1])\n",
    "  #print('num_neighbours',num_neighbours)\n",
    "  #break\n",
    "  #print('distance_cum_index',distance_cum_index[:,1])\n",
    "  remaining_indices = distance_cum_index[:,1]\n",
    "\n",
    "  remaining_indices = remaining_indices.astype(int)\n",
    "  \n",
    "    \n",
    "  A = np.array([])\n",
    "  for i in range(num_neighbours):\n",
    "    if(i >= distance_cum_index[:,1].shape[0]):\n",
    "        break\n",
    "    A = np.concatenate((A, batch_x[int(distance_cum_index[:,1][i])]), axis = 0 )\n",
    "  \n",
    "  A = A.reshape(int(A.shape[0]/3) , 3)\n",
    "  \n",
    "  #print(\"The shape of A is \")\n",
    "  #print(A.shape)\n",
    "  next_barycenter = give_centeroid(A) \n",
    "  \n",
    "  next_barycenter = np.array(next_barycenter)\n",
    "  #print(next_barycenter.shape)\n",
    "  next_barycenter = next_barycenter.reshape(next_barycenter.shape[0]* next_barycenter.shape[1])\n",
    "  #print(next_barycenter)  \n",
    "  return A, next_barycenter, remaining_indices,num_neighbours\n"
   ]
  },
  {
   "cell_type": "code",
   "execution_count": 4,
   "id": "96a90c0d",
   "metadata": {},
   "outputs": [],
   "source": [
    "def get_convergent_barycenters(point_cloud, initial_pt,sweep_radsius):   \n",
    "    \n",
    "    #no_neighbours = int(point_cloud.shape[0] / no_of_barycenetrs_required)\n",
    "    #initiating no of neighbours\n",
    "    #no_neighbours = 5\n",
    "    \n",
    "    #num_neighbours = int(batch_x.shape[0] / no_of_barycenetrs_required)\n",
    "\n",
    "    \n",
    "    bary = initial_pt\n",
    "    rem_indices = np.array(range(0,point_cloud.shape[0]))\n",
    "    #print(rem_indices)\n",
    "    #print(\"Size of batch : \", point_cloud.shape[0])\n",
    "    sampled_barycenters = np.array([])\n",
    "    sampled_barycenters = torch.tensor(sampled_barycenters)\n",
    "    covered_indices = np.array([])\n",
    "\n",
    "    for i in range(int(point_cloud.shape[0])):\n",
    "\n",
    "        if(len(rem_indices) == 2):\n",
    "            #print(\"END\")\n",
    "            break\n",
    "\n",
    "        #print(\"Iteration number : \", i+1)\n",
    "        #print(\"Input barycenter : \")\n",
    "\n",
    "\n",
    "        old_bary = bary\n",
    "\n",
    "\n",
    "        #print('rem_indices before', rem_indices)\n",
    "        neighbours, bary, rem_indices, no_neighbours = give_next_neighbours_barycenter_indices(point_cloud, bary, rem_indices, sweep_radsius)\n",
    "        #print('no_neighbours', no_neighbours)\n",
    "        #break\n",
    "        wassDistance = np.linalg.norm(old_bary - bary)  \n",
    "\n",
    "        covered_indices = np.concatenate((covered_indices, rem_indices[:4] ) ,axis = 0)\n",
    "\n",
    "\n",
    "        #print(\"Tracking distance between new barycenter and previous barycenter : \",wassDistance )\n",
    "        if(wassDistance < 0.000001):\n",
    "\n",
    "            unique_covered_indices = np.unique(covered_indices, axis=0)\n",
    "            sampled_barycenters = torch.cat((sampled_barycenters, torch.tensor(bary)), 0)\n",
    "\n",
    "            s1 = set(rem_indices)\n",
    "            s2 = set(unique_covered_indices)\n",
    "            rem_set = s1 - s2\n",
    "            rem_inds = list(rem_set)\n",
    "            #rem_indices = rem_set\n",
    "            rem_indices = rem_indices[no_neighbours:]\n",
    "\n",
    "            #print(\"Sampled barycenters are\")\n",
    "            #print(sampled_barycenters)\n",
    "            #no_neighbours = 5\n",
    "            #print('rem_indices',rem_indices)\n",
    "            #print(\"len(rem_indices)\",len(rem_indices))\n",
    "            if(len(rem_indices) ==0):\n",
    "                break\n",
    "            bary = point_cloud[rem_indices[0]]\n",
    "    sampled_barycenters = sampled_barycenters.reshape(int((sampled_barycenters.shape[0]/3)),3)\n",
    "    \n",
    "    return sampled_barycenters"
   ]
  },
  {
   "cell_type": "code",
   "execution_count": 5,
   "id": "f6578967",
   "metadata": {},
   "outputs": [],
   "source": [
    "def _compute_distance_matrix(x, p=2):\n",
    "    x_flat = x.view(x.size(0), -1)\n",
    "\n",
    "    distances = torch.norm(x_flat[:, None] - x_flat, dim=2, p=p)\n",
    "\n",
    "    return distances"
   ]
  },
  {
   "cell_type": "code",
   "execution_count": 6,
   "id": "36fc4884",
   "metadata": {},
   "outputs": [],
   "source": [
    "def get_persistence_diagram(point_cloud, maximum_dim):\n",
    "\n",
    "    point_cloud = torch.tensor(point_cloud)\n",
    "\n",
    "    dist_matrix = _compute_distance_matrix(point_cloud, p=2)\n",
    "    diagrams = ripser.ripser(dist_matrix.cpu().detach().numpy(), distance_matrix=True, maxdim=maximum_dim)['dgms']\n",
    "    return diagrams, plot_diagrams(diagrams, show=True)\n"
   ]
  },
  {
   "cell_type": "markdown",
   "id": "bf6d86ff",
   "metadata": {},
   "source": [
    "# Torus in 3D"
   ]
  },
  {
   "cell_type": "code",
   "execution_count": 7,
   "id": "555e0be5",
   "metadata": {},
   "outputs": [],
   "source": [
    "x, y, z = sp.symbols('x y z')\n"
   ]
  },
  {
   "cell_type": "code",
   "execution_count": 8,
   "id": "3837199a",
   "metadata": {},
   "outputs": [],
   "source": [
    "## Torus\n",
    "R = 1.5\n",
    "r = 0.7\n",
    "expr_torus = (x**2 + y**2 + z**2 + R**2 - r**2)**2 - 4*R**2*(x**2 + y**2)\n"
   ]
  },
  {
   "cell_type": "code",
   "execution_count": 9,
   "id": "83e33d45",
   "metadata": {},
   "outputs": [
    {
     "data": {
      "text/latex": [
       "$\\displaystyle - 9.0 x^{2} - 9.0 y^{2} + 3.0976 \\left(0.568181818181818 x^{2} + 0.568181818181818 y^{2} + 0.568181818181818 z^{2} + 1\\right)^{2}$"
      ],
      "text/plain": [
       "-9.0*x**2 - 9.0*y**2 + 3.0976*(0.568181818181818*x**2 + 0.568181818181818*y**2 + 0.568181818181818*z**2 + 1)**2"
      ]
     },
     "execution_count": 9,
     "metadata": {},
     "output_type": "execute_result"
    }
   ],
   "source": [
    "expr_torus"
   ]
  },
  {
   "cell_type": "code",
   "execution_count": 10,
   "id": "d9a1cbf3",
   "metadata": {},
   "outputs": [],
   "source": [
    "poly_torus = sp.Poly(expr_torus, x, y, z)"
   ]
  },
  {
   "cell_type": "code",
   "execution_count": 11,
   "id": "1a72041a",
   "metadata": {},
   "outputs": [
    {
     "data": {
      "text/latex": [
       "$\\displaystyle 1.0 x^{4} + 2.0 x^{2} y^{2} + 2.0 x^{2} z^{2} - 5.48 x^{2} + 1.0 y^{4} + 2.0 y^{2} z^{2} - 5.48 y^{2} + 1.0 z^{4} + 3.52 z^{2} + 3.0976$"
      ],
      "text/plain": [
       "1.0*x**4 + 2.0*x**2*y**2 + 2.0*x**2*z**2 - 5.48*x**2 + 1.0*y**4 + 2.0*y**2*z**2 - 5.48*y**2 + 1.0*z**4 + 3.52*z**2 + 3.0976"
      ]
     },
     "execution_count": 11,
     "metadata": {},
     "output_type": "execute_result"
    }
   ],
   "source": [
    "sp.expand(expr_torus)"
   ]
  },
  {
   "cell_type": "code",
   "execution_count": 12,
   "id": "10a12425",
   "metadata": {},
   "outputs": [],
   "source": [
    "#Convert sympy polynomial to minterpy polynomial\n",
    "\n",
    "newt_poly_torus = sympy_to_mp(poly_torus, mp.NewtonPolynomial)"
   ]
  },
  {
   "cell_type": "markdown",
   "id": "1c023a1b",
   "metadata": {},
   "source": [
    "# Trials on Torus : "
   ]
  },
  {
   "cell_type": "code",
   "execution_count": 13,
   "id": "b5aa148d",
   "metadata": {},
   "outputs": [],
   "source": [
    "#Sample points on the zero isocontour\n",
    "def points_on_torus(num_points):\n",
    "    \n",
    "    point_data_torus = sample_points_on_poly(num_points,        # Number of points to be sampled\n",
    "                                       newt_poly_torus,  # Polynomial in Newton basis\n",
    "                                       bounds=3.0, # Boundary of the Cubic domain to be sampled\n",
    "                                       tol=1e-15)  # Tolerance in solution\n",
    "    \n",
    "    return point_data_torus"
   ]
  },
  {
   "cell_type": "markdown",
   "id": "7445a390",
   "metadata": {},
   "source": [
    "# 1. 1000 barycenters from 10000 points"
   ]
  },
  {
   "cell_type": "code",
   "execution_count": null,
   "id": "495fe425",
   "metadata": {},
   "outputs": [],
   "source": []
  },
  {
   "cell_type": "code",
   "execution_count": 14,
   "id": "fb391cc8",
   "metadata": {},
   "outputs": [],
   "source": [
    "#Sample points on the zero isocontour\n",
    "\n",
    "point_data_torus = sample_points_on_poly(8000,        # Number of points to be sampled\n",
    "                                   newt_poly_torus,  # Polynomial in Newton basis\n",
    "                                   bounds=3.0, # Boundary of the Cubic domain to be sampled\n",
    "                                   tol=1e-15)  # Tolerance in solution"
   ]
  },
  {
   "cell_type": "code",
   "execution_count": 15,
   "id": "d45e911d",
   "metadata": {},
   "outputs": [
    {
     "data": {
      "text/plain": [
       "(8000, 3)"
      ]
     },
     "execution_count": 15,
     "metadata": {},
     "output_type": "execute_result"
    }
   ],
   "source": [
    "point_data_torus.shape"
   ]
  },
  {
   "cell_type": "code",
   "execution_count": 16,
   "id": "b7ffc160",
   "metadata": {},
   "outputs": [],
   "source": [
    "cut_torus1 = point_data_torus[np.where(point_data_torus[:,0]<1.5)]\n",
    "\n",
    "cut_torus2 = (point_data_torus[np.where(point_data_torus[:,0]>-1.5)]+np.array([1.4, 0, 0])*2)*1.1"
   ]
  },
  {
   "cell_type": "code",
   "execution_count": 17,
   "id": "fe75753a",
   "metadata": {},
   "outputs": [
    {
     "data": {
      "application/vnd.jupyter.widget-view+json": {
       "model_id": "4030703fed9c435d85c9174602335085",
       "version_major": 2,
       "version_minor": 0
      },
      "text/plain": [
       "ViewInteractiveWidget(height=960, layout=Layout(height='auto', width='100%'), width=960)"
      ]
     },
     "metadata": {},
     "output_type": "display_data"
    }
   ],
   "source": [
    "x_t = point_data_torus[:,0]\n",
    "y_t = point_data_torus[:,1]\n",
    "z_t = point_data_torus[:,2]\n",
    "\n",
    "\n",
    "plot_points = [x_t,y_t,z_t]\n",
    "Points(plot_points).show(axes=1)"
   ]
  },
  {
   "cell_type": "code",
   "execution_count": 18,
   "id": "2e02ac21",
   "metadata": {},
   "outputs": [
    {
     "data": {
      "application/vnd.jupyter.widget-view+json": {
       "model_id": "4dd3326b2ff34257b40ddf053621ad85",
       "version_major": 2,
       "version_minor": 0
      },
      "text/plain": [
       "ViewInteractiveWidget(height=960, layout=Layout(height='auto', width='100%'), width=960)"
      ]
     },
     "metadata": {},
     "output_type": "display_data"
    }
   ],
   "source": [
    "x_t = cut_torus1[:,0]\n",
    "y_t = cut_torus1[:,1]\n",
    "z_t = cut_torus1[:,2]\n",
    "\n",
    "\n",
    "plot_points = [x_t,y_t,z_t]\n",
    "Points(plot_points).show(axes=1)"
   ]
  },
  {
   "cell_type": "code",
   "execution_count": 19,
   "id": "463fddab",
   "metadata": {},
   "outputs": [
    {
     "data": {
      "application/vnd.jupyter.widget-view+json": {
       "model_id": "f8ca7b5aaa934b53811a604bbdda6564",
       "version_major": 2,
       "version_minor": 0
      },
      "text/plain": [
       "ViewInteractiveWidget(height=960, layout=Layout(height='auto', width='100%'), width=960)"
      ]
     },
     "metadata": {},
     "output_type": "display_data"
    }
   ],
   "source": [
    "x_t = cut_torus2[:,0]\n",
    "y_t = cut_torus2[:,1]\n",
    "z_t = cut_torus2[:,2]\n",
    "\n",
    "\n",
    "plot_points = [x_t,y_t,z_t]\n",
    "Points(plot_points).show(axes=1)"
   ]
  },
  {
   "cell_type": "code",
   "execution_count": 20,
   "id": "dba3dd26",
   "metadata": {},
   "outputs": [],
   "source": [
    "joined_torus = np.concatenate((cut_torus1, cut_torus2))"
   ]
  },
  {
   "cell_type": "code",
   "execution_count": 21,
   "id": "a073cd84",
   "metadata": {},
   "outputs": [],
   "source": [
    "joined_torus_lower_cut = joined_torus[np.where(joined_torus[:,1]>-1.3)]"
   ]
  },
  {
   "cell_type": "code",
   "execution_count": 22,
   "id": "088f4d0a",
   "metadata": {},
   "outputs": [
    {
     "data": {
      "application/vnd.jupyter.widget-view+json": {
       "model_id": "bb144c017d0f4e999cfad0ac190f4286",
       "version_major": 2,
       "version_minor": 0
      },
      "text/plain": [
       "ViewInteractiveWidget(height=960, layout=Layout(height='auto', width='100%'), width=960)"
      ]
     },
     "metadata": {},
     "output_type": "display_data"
    }
   ],
   "source": [
    "x_t = joined_torus[:,0]\n",
    "y_t = joined_torus[:,1]\n",
    "z_t = joined_torus[:,2]\n",
    "\n",
    "\n",
    "plot_points = [x_t,y_t,z_t]\n",
    "Points(plot_points).show(axes=1)"
   ]
  },
  {
   "cell_type": "code",
   "execution_count": 23,
   "id": "03e72ef9",
   "metadata": {},
   "outputs": [
    {
     "data": {
      "application/vnd.jupyter.widget-view+json": {
       "model_id": "a35c94ac8f7348a99ab44423fc020968",
       "version_major": 2,
       "version_minor": 0
      },
      "text/plain": [
       "ViewInteractiveWidget(height=960, layout=Layout(height='auto', width='100%'), width=960)"
      ]
     },
     "metadata": {},
     "output_type": "display_data"
    }
   ],
   "source": [
    "x_t = joined_torus_lower_cut[:,0]\n",
    "y_t = joined_torus_lower_cut[:,1]\n",
    "z_t = joined_torus_lower_cut[:,2]\n",
    "\n",
    "\n",
    "plot_points = [x_t,y_t,z_t]\n",
    "Points(plot_points).show(axes=1)"
   ]
  },
  {
   "cell_type": "code",
   "execution_count": 24,
   "id": "735fb133",
   "metadata": {},
   "outputs": [],
   "source": [
    "stretched_upper_cut_torus = ((point_data_torus[np.where(point_data_torus[:,1]<1.5)])*np.array([2.2, 1.0 ,1.0])) + np.array([1.7, -2.8, 0])"
   ]
  },
  {
   "cell_type": "code",
   "execution_count": 25,
   "id": "65e8196a",
   "metadata": {},
   "outputs": [
    {
     "data": {
      "application/vnd.jupyter.widget-view+json": {
       "model_id": "fbad0e14f3c541d5abb7475689866de1",
       "version_major": 2,
       "version_minor": 0
      },
      "text/plain": [
       "ViewInteractiveWidget(height=960, layout=Layout(height='auto', width='100%'), width=960)"
      ]
     },
     "metadata": {},
     "output_type": "display_data"
    }
   ],
   "source": [
    "x_t = stretched_upper_cut_torus[:,0]\n",
    "y_t = stretched_upper_cut_torus[:,1]\n",
    "z_t = stretched_upper_cut_torus[:,2]\n",
    "\n",
    "\n",
    "plot_points = [x_t,y_t,z_t]\n",
    "Points(plot_points).show(axes=1)"
   ]
  },
  {
   "cell_type": "code",
   "execution_count": 27,
   "id": "22f08a2e",
   "metadata": {},
   "outputs": [],
   "source": [
    "genus3surface = np.concatenate((joined_torus_lower_cut,stretched_upper_cut_torus ))"
   ]
  },
  {
   "cell_type": "code",
   "execution_count": 28,
   "id": "259bbcac",
   "metadata": {},
   "outputs": [
    {
     "data": {
      "application/vnd.jupyter.widget-view+json": {
       "model_id": "41e4b21774894bd08a5781f48fe25dd7",
       "version_major": 2,
       "version_minor": 0
      },
      "text/plain": [
       "ViewInteractiveWidget(height=960, layout=Layout(height='auto', width='100%'), width=960)"
      ]
     },
     "metadata": {},
     "output_type": "display_data"
    }
   ],
   "source": [
    "x_t = genus3surface[:,0]\n",
    "y_t = genus3surface[:,1]\n",
    "z_t = genus3surface[:,2]\n",
    "\n",
    "\n",
    "plot_points = [x_t,y_t,z_t]\n",
    "Points(plot_points).show(axes=1)"
   ]
  },
  {
   "cell_type": "code",
   "execution_count": null,
   "id": "49053576",
   "metadata": {},
   "outputs": [],
   "source": []
  },
  {
   "cell_type": "code",
   "execution_count": 29,
   "id": "198ebb9b",
   "metadata": {},
   "outputs": [
    {
     "data": {
      "text/plain": [
       "(17852, 3)"
      ]
     },
     "execution_count": 29,
     "metadata": {},
     "output_type": "execute_result"
    }
   ],
   "source": [
    "genus3surface.shape"
   ]
  },
  {
   "cell_type": "code",
   "execution_count": 121,
   "id": "d18676b0",
   "metadata": {},
   "outputs": [],
   "source": [
    "rand_sampled_genus3surface = genus3surface[np.random.randint(0,15017, 717)]"
   ]
  },
  {
   "cell_type": "code",
   "execution_count": null,
   "id": "a1777286",
   "metadata": {},
   "outputs": [],
   "source": []
  },
  {
   "cell_type": "code",
   "execution_count": null,
   "id": "0e0f5b77",
   "metadata": {},
   "outputs": [],
   "source": []
  },
  {
   "cell_type": "code",
   "execution_count": null,
   "id": "71612618",
   "metadata": {},
   "outputs": [],
   "source": []
  },
  {
   "cell_type": "markdown",
   "id": "616c6273",
   "metadata": {},
   "source": [
    "# demo of barycenter convergence on a torus\n"
   ]
  },
  {
   "cell_type": "code",
   "execution_count": 117,
   "id": "c9292d66",
   "metadata": {
    "scrolled": true
   },
   "outputs": [],
   "source": [
    "torus_bary = get_convergent_barycenters(genus3surface, genus3surface[0],0.3)"
   ]
  },
  {
   "cell_type": "code",
   "execution_count": 118,
   "id": "7bc34b28",
   "metadata": {},
   "outputs": [
    {
     "data": {
      "text/plain": [
       "torch.Size([717, 3])"
      ]
     },
     "execution_count": 118,
     "metadata": {},
     "output_type": "execute_result"
    }
   ],
   "source": [
    "torus_bary.shape"
   ]
  },
  {
   "cell_type": "code",
   "execution_count": 133,
   "id": "6c1c223f",
   "metadata": {},
   "outputs": [
    {
     "data": {
      "application/vnd.jupyter.widget-view+json": {
       "model_id": "8f723654eb7143498fc2e1737650dd4c",
       "version_major": 2,
       "version_minor": 0
      },
      "text/plain": [
       "ViewInteractiveWidget(height=960, layout=Layout(height='auto', width='100%'), width=960)"
      ]
     },
     "metadata": {},
     "output_type": "display_data"
    }
   ],
   "source": [
    "# plotting the sampled barycenters\n",
    "\n",
    "x_stb = torus_bary[:,0]#.cpu().detach().numpy()\n",
    "\n",
    "y_stb = torus_bary[:,1]#.cpu().detach().numpy()\n",
    "\n",
    "z_stb = torus_bary[:,2]#.cpu().detach().numpy()\n",
    "\n",
    "\n",
    "\n",
    "plot_points = [x_stb,y_stb,z_stb]\n",
    "Points(plot_points).show(axes=1)"
   ]
  },
  {
   "cell_type": "code",
   "execution_count": null,
   "id": "493dc508",
   "metadata": {},
   "outputs": [],
   "source": []
  },
  {
   "cell_type": "code",
   "execution_count": 134,
   "id": "02b4331c",
   "metadata": {},
   "outputs": [
    {
     "data": {
      "application/vnd.jupyter.widget-view+json": {
       "model_id": "18343c04b25845fa807ab2c0c8ee3ba8",
       "version_major": 2,
       "version_minor": 0
      },
      "text/plain": [
       "ViewInteractiveWidget(height=960, layout=Layout(height='auto', width='100%'), width=960)"
      ]
     },
     "metadata": {},
     "output_type": "display_data"
    }
   ],
   "source": [
    "# plotting the sampled barycenters\n",
    "\n",
    "x_stb = rand_sampled_genus3surface[:,0]#.cpu().detach().numpy()\n",
    "\n",
    "y_stb = rand_sampled_genus3surface[:,1]#.cpu().detach().numpy()\n",
    "\n",
    "z_stb = rand_sampled_genus3surface[:,2]#.cpu().detach().numpy()\n",
    "\n",
    "\n",
    "\n",
    "plot_points = [x_stb,y_stb,z_stb]\n",
    "Points(plot_points).show(axes=1)"
   ]
  },
  {
   "cell_type": "code",
   "execution_count": null,
   "id": "036374ff",
   "metadata": {},
   "outputs": [],
   "source": []
  },
  {
   "cell_type": "markdown",
   "id": "77d5ecad",
   "metadata": {},
   "source": [
    "# Trajectory of barycenter smpling\n"
   ]
  },
  {
   "cell_type": "code",
   "execution_count": 24,
   "id": "585ebf38",
   "metadata": {},
   "outputs": [
    {
     "data": {
      "image/png": "[encoded data removed]",
      "text/plain": [
       "<Figure size 432x288 with 1 Axes>"
      ]
     },
     "metadata": {
      "needs_background": "light"
     },
     "output_type": "display_data"
    }
   ],
   "source": [
    "\n",
    "fig = matplotlib.pyplot.figure()\n",
    "ax  = fig.add_subplot(111, projection = '3d')\n",
    "\n",
    "X = torus_bary[:,0]\n",
    "Y = torus_bary[:,1]\n",
    "Z = torus_bary[:,2]\n",
    "ax.plot(X, Y, Z, color = 'b')\n",
    "plt.show()"
   ]
  },
  {
   "cell_type": "markdown",
   "id": "ad2d9e01",
   "metadata": {},
   "source": [
    "# Persistent homology of sampled barycenters"
   ]
  },
  {
   "cell_type": "code",
   "execution_count": 29,
   "id": "c6155657",
   "metadata": {},
   "outputs": [],
   "source": [
    "import matplotlib\n",
    "matplotlib.rcdefaults()\n",
    "from persim import plot_diagrams"
   ]
  },
  {
   "cell_type": "code",
   "execution_count": 129,
   "id": "6678e95b",
   "metadata": {},
   "outputs": [
    {
     "name": "stderr",
     "output_type": "stream",
     "text": [
      "/tmp/ipykernel_5391/1703124144.py:3: UserWarning: To copy construct from a tensor, it is recommended to use sourceTensor.clone().detach() or sourceTensor.clone().detach().requires_grad_(True), rather than torch.tensor(sourceTensor).\n",
      "  point_cloud = torch.tensor(point_cloud)\n"
     ]
    },
    {
     "data": {
      "image/png": "[encoded data removed]",
      "text/plain": [
       "<Figure size 640x480 with 1 Axes>"
      ]
     },
     "metadata": {},
     "output_type": "display_data"
    }
   ],
   "source": [
    "torus_PH_arrays,PH_diagram_barycenters_torus = get_persistence_diagram(torus_bary,2)"
   ]
  },
  {
   "cell_type": "code",
   "execution_count": 130,
   "id": "34293f5c",
   "metadata": {},
   "outputs": [
    {
     "data": {
      "text/plain": [
       "[array([[0.        , 0.28905204],\n",
       "        [0.        , 0.29494044],\n",
       "        [0.        , 0.29683658],\n",
       "        ...,\n",
       "        [0.        , 0.49589279],\n",
       "        [0.        , 0.49813586],\n",
       "        [0.        ,        inf]]),\n",
       " array([[1.40006864, 1.40168571],\n",
       "        [1.38786983, 1.38863599],\n",
       "        [0.58641392, 0.59262663],\n",
       "        [0.58318204, 0.59751517],\n",
       "        [0.58315217, 0.63205224],\n",
       "        [0.57902735, 0.58729017],\n",
       "        [0.56833655, 0.66282284],\n",
       "        [0.56468314, 0.6133787 ],\n",
       "        [0.56225324, 0.57535523],\n",
       "        [0.55933511, 0.57323569],\n",
       "        [0.55734026, 0.56786638],\n",
       "        [0.55536562, 0.5588268 ],\n",
       "        [0.55320799, 0.58754778],\n",
       "        [0.55117434, 0.57255971],\n",
       "        [0.55053121, 0.62469375],\n",
       "        [0.55050403, 0.56913406],\n",
       "        [0.54998773, 0.63402784],\n",
       "        [0.5497365 , 0.57489794],\n",
       "        [0.54439276, 0.6001969 ],\n",
       "        [0.54340804, 0.56852138],\n",
       "        [0.54292887, 0.54912442],\n",
       "        [0.54227078, 0.57162005],\n",
       "        [0.54201597, 0.5979948 ],\n",
       "        [0.5410791 , 0.5563308 ],\n",
       "        [0.54087168, 0.62822485],\n",
       "        [0.54010373, 0.62476623],\n",
       "        [0.53985673, 0.63898253],\n",
       "        [0.5394972 , 0.57300049],\n",
       "        [0.53883058, 0.58203483],\n",
       "        [0.53873485, 0.59612036],\n",
       "        [0.53729767, 0.66770089],\n",
       "        [0.53671801, 0.55065054],\n",
       "        [0.5361293 , 0.54361671],\n",
       "        [0.53529167, 0.57137555],\n",
       "        [0.53319257, 0.54089874],\n",
       "        [0.53307366, 0.57029855],\n",
       "        [0.53287464, 0.5728389 ],\n",
       "        [0.5322628 , 0.55504477],\n",
       "        [0.53091395, 0.58769423],\n",
       "        [0.53075546, 0.58259559],\n",
       "        [0.52888417, 0.57746905],\n",
       "        [0.52883327, 0.55043602],\n",
       "        [0.52823001, 0.56374604],\n",
       "        [0.52679396, 0.52812052],\n",
       "        [0.52613246, 0.56165183],\n",
       "        [0.52573723, 0.57939231],\n",
       "        [0.52571338, 0.54098862],\n",
       "        [0.52564144, 0.61303455],\n",
       "        [0.52511555, 0.55372578],\n",
       "        [0.524791  , 0.57580906],\n",
       "        [0.5245778 , 0.57434934],\n",
       "        [0.5243094 , 0.6263451 ],\n",
       "        [0.52425832, 0.5475964 ],\n",
       "        [0.52388549, 0.57270229],\n",
       "        [0.52373171, 0.6051051 ],\n",
       "        [0.52216482, 0.54852402],\n",
       "        [0.52167803, 0.58476979],\n",
       "        [0.52142513, 0.53679144],\n",
       "        [0.52086157, 0.54921347],\n",
       "        [0.51975363, 0.52731532],\n",
       "        [0.51962453, 0.59444129],\n",
       "        [0.51874238, 0.57653499],\n",
       "        [0.51826048, 0.58739328],\n",
       "        [0.5182302 , 0.55512321],\n",
       "        [0.51795614, 0.58385265],\n",
       "        [0.51780212, 0.60041469],\n",
       "        [0.5175525 , 0.59847963],\n",
       "        [0.51727712, 0.53113949],\n",
       "        [0.51703882, 0.59461659],\n",
       "        [0.51677579, 0.59139383],\n",
       "        [0.51666158, 0.56187528],\n",
       "        [0.51630718, 0.55586529],\n",
       "        [0.51571083, 0.52427119],\n",
       "        [0.51555324, 0.56878287],\n",
       "        [0.51489139, 0.58380842],\n",
       "        [0.51409644, 0.54566365],\n",
       "        [0.51394403, 0.56373101],\n",
       "        [0.51379734, 0.58230662],\n",
       "        [0.51361412, 0.5508188 ],\n",
       "        [0.51342106, 0.5249151 ],\n",
       "        [0.51334125, 0.64178395],\n",
       "        [0.51296884, 0.54403806],\n",
       "        [0.51286948, 0.55789685],\n",
       "        [0.5125621 , 0.53591174],\n",
       "        [0.5124923 , 0.54221165],\n",
       "        [0.51232082, 0.54456854],\n",
       "        [0.51091731, 0.60448968],\n",
       "        [0.51066154, 0.62968493],\n",
       "        [0.5104757 , 0.53570908],\n",
       "        [0.50968021, 0.58855116],\n",
       "        [0.50965053, 0.5791356 ],\n",
       "        [0.50899786, 0.51532263],\n",
       "        [0.50869548, 0.54484165],\n",
       "        [0.50867915, 0.52327812],\n",
       "        [0.50846982, 0.5816927 ],\n",
       "        [0.50845671, 0.56950414],\n",
       "        [0.50772464, 0.58903468],\n",
       "        [0.50746936, 0.6220293 ],\n",
       "        [0.50732976, 0.53138608],\n",
       "        [0.5071733 , 0.52547669],\n",
       "        [0.50716424, 0.55401331],\n",
       "        [0.50687909, 0.5647496 ],\n",
       "        [0.50679576, 0.60324955],\n",
       "        [0.50658625, 0.56834322],\n",
       "        [0.50638926, 0.56189936],\n",
       "        [0.50612056, 0.52710456],\n",
       "        [0.50565636, 0.56118429],\n",
       "        [0.50519252, 0.55490696],\n",
       "        [0.50390595, 0.61239713],\n",
       "        [0.50377798, 0.52506763],\n",
       "        [0.50305343, 0.60744691],\n",
       "        [0.50273478, 0.6368376 ],\n",
       "        [0.50205028, 0.58389628],\n",
       "        [0.501858  , 0.52732253],\n",
       "        [0.50169283, 0.60258824],\n",
       "        [0.50129664, 0.52680534],\n",
       "        [0.50117421, 0.56581551],\n",
       "        [0.50083458, 0.54005039],\n",
       "        [0.50074875, 0.51561934],\n",
       "        [0.50065601, 0.58756888],\n",
       "        [0.50037998, 0.60058254],\n",
       "        [0.4999485 , 0.54537898],\n",
       "        [0.49988687, 0.55791742],\n",
       "        [0.49987388, 0.54518849],\n",
       "        [0.49976936, 0.52559012],\n",
       "        [0.49969211, 0.50757688],\n",
       "        [0.49894792, 0.58498943],\n",
       "        [0.49828258, 0.58667243],\n",
       "        [0.49752805, 0.55918568],\n",
       "        [0.49704897, 0.52228177],\n",
       "        [0.49680766, 0.57880175],\n",
       "        [0.49678156, 0.63140815],\n",
       "        [0.49659759, 0.53770036],\n",
       "        [0.49611765, 0.6009329 ],\n",
       "        [0.49605855, 0.51938361],\n",
       "        [0.49471605, 0.5698151 ],\n",
       "        [0.49417433, 0.55294251],\n",
       "        [0.49415487, 0.57303566],\n",
       "        [0.49387139, 0.57624888],\n",
       "        [0.49358588, 0.51468384],\n",
       "        [0.49279785, 0.51424998],\n",
       "        [0.49241728, 0.59126914],\n",
       "        [0.4923017 , 0.61328119],\n",
       "        [0.4922955 , 0.54402417],\n",
       "        [0.49228379, 0.60447246],\n",
       "        [0.49222007, 0.56479764],\n",
       "        [0.49186552, 0.53206855],\n",
       "        [0.4911564 , 0.59495312],\n",
       "        [0.49081734, 0.58997142],\n",
       "        [0.49074337, 0.55503803],\n",
       "        [0.49064973, 0.54540002],\n",
       "        [0.49040133, 0.5816282 ],\n",
       "        [0.49039218, 0.60668147],\n",
       "        [0.49000338, 0.50870121],\n",
       "        [0.48917234, 0.54806876],\n",
       "        [0.48907956, 0.598611  ],\n",
       "        [0.48768285, 0.67887175],\n",
       "        [0.48761588, 0.56663114],\n",
       "        [0.48750943, 0.50369126],\n",
       "        [0.48666871, 0.54195279],\n",
       "        [0.48625067, 0.56564069],\n",
       "        [0.48611543, 0.5221507 ],\n",
       "        [0.4860523 , 0.58150339],\n",
       "        [0.48593315, 0.65864319],\n",
       "        [0.48571202, 0.5711537 ],\n",
       "        [0.48547801, 0.5448103 ],\n",
       "        [0.48509729, 0.62779337],\n",
       "        [0.48448631, 0.53418738],\n",
       "        [0.48382136, 0.53596991],\n",
       "        [0.48374328, 0.58569533],\n",
       "        [0.48334882, 0.52278215],\n",
       "        [0.48315686, 0.51783264],\n",
       "        [0.48287451, 0.61136347],\n",
       "        [0.48276073, 0.59096903],\n",
       "        [0.48244679, 0.50373846],\n",
       "        [0.48239389, 0.70351523],\n",
       "        [0.48224971, 0.53728944],\n",
       "        [0.48197153, 0.52734607],\n",
       "        [0.48191991, 0.56247205],\n",
       "        [0.48166084, 0.61103046],\n",
       "        [0.48155868, 0.59629583],\n",
       "        [0.48151672, 0.57066548],\n",
       "        [0.48056209, 0.49431786],\n",
       "        [0.4804658 , 0.58910328],\n",
       "        [0.480461  , 0.55671442],\n",
       "        [0.47985625, 0.58492047],\n",
       "        [0.47928956, 0.55030471],\n",
       "        [0.47922465, 0.54580927],\n",
       "        [0.479164  , 0.51945883],\n",
       "        [0.47893178, 0.61268699],\n",
       "        [0.47763032, 0.56248456],\n",
       "        [0.47736606, 0.54660505],\n",
       "        [0.47702357, 0.59554791],\n",
       "        [0.47640458, 0.58548909],\n",
       "        [0.47568318, 0.57569575],\n",
       "        [0.47565526, 0.48830387],\n",
       "        [0.47556183, 0.6163432 ],\n",
       "        [0.47553316, 0.65635639],\n",
       "        [0.47530943, 0.50170946],\n",
       "        [0.47482708, 0.52899492],\n",
       "        [0.47400925, 0.56933492],\n",
       "        [0.47383943, 0.50067556],\n",
       "        [0.47358903, 0.62495172],\n",
       "        [0.47341257, 0.53830397],\n",
       "        [0.4729929 , 0.54191202],\n",
       "        [0.47290024, 0.48624241],\n",
       "        [0.47226679, 0.57966489],\n",
       "        [0.47207743, 0.62537479],\n",
       "        [0.47205457, 0.60536373],\n",
       "        [0.47201723, 0.50941116],\n",
       "        [0.47198278, 0.56823289],\n",
       "        [0.47194651, 0.52399302],\n",
       "        [0.47187403, 0.55794579],\n",
       "        [0.4717204 , 0.54491037],\n",
       "        [0.47163358, 0.61200345],\n",
       "        [0.47163275, 0.61229616],\n",
       "        [0.47085202, 0.61619556],\n",
       "        [0.47047383, 0.58239865],\n",
       "        [0.47023678, 0.61309433],\n",
       "        [0.4700726 , 0.49981451],\n",
       "        [0.46985456, 0.64592063],\n",
       "        [0.46979541, 0.53179002],\n",
       "        [0.46942028, 0.5099777 ],\n",
       "        [0.46918091, 0.57550466],\n",
       "        [0.46866992, 0.66626918],\n",
       "        [0.46865201, 0.5500896 ],\n",
       "        [0.46859765, 0.66648716],\n",
       "        [0.46827346, 0.58009058],\n",
       "        [0.46793815, 0.53184021],\n",
       "        [0.46784183, 0.51623535],\n",
       "        [0.46782607, 0.52220857],\n",
       "        [0.46722251, 0.59309065],\n",
       "        [0.46679288, 0.58467102],\n",
       "        [0.46657667, 0.56319672],\n",
       "        [0.46589869, 0.64269495],\n",
       "        [0.46539772, 0.5329743 ],\n",
       "        [0.46537587, 0.52121031],\n",
       "        [0.46536759, 0.5760895 ],\n",
       "        [0.46498552, 0.58154774],\n",
       "        [0.46484596, 0.54227591],\n",
       "        [0.46467805, 0.49988499],\n",
       "        [0.46421528, 0.65821719],\n",
       "        [0.46376932, 0.58804971],\n",
       "        [0.46372238, 0.60107476],\n",
       "        [0.4636178 , 0.52245021],\n",
       "        [0.46361464, 0.64071703],\n",
       "        [0.46311805, 0.64671677],\n",
       "        [0.46262383, 0.60145158],\n",
       "        [0.46237424, 0.4877961 ],\n",
       "        [0.45976824, 0.64059794],\n",
       "        [0.45971459, 0.62626421],\n",
       "        [0.45969057, 0.52031094],\n",
       "        [0.45963395, 0.46126658],\n",
       "        [0.45956579, 0.53744489],\n",
       "        [0.45891866, 0.62192357],\n",
       "        [0.45882306, 0.51958609],\n",
       "        [0.4584845 , 0.55589086],\n",
       "        [0.4584648 , 0.62264329],\n",
       "        [0.45830208, 0.62554979],\n",
       "        [0.45830017, 0.62595904],\n",
       "        [0.45803228, 0.536008  ],\n",
       "        [0.457405  , 0.57137704],\n",
       "        [0.45738471, 0.57534546],\n",
       "        [0.45732728, 0.61822414],\n",
       "        [0.45717919, 0.59219456],\n",
       "        [0.45660874, 0.54468435],\n",
       "        [0.45642346, 0.65210974],\n",
       "        [0.45642236, 0.46806851],\n",
       "        [0.45640463, 0.56605482],\n",
       "        [0.45634657, 0.50121748],\n",
       "        [0.45575789, 0.53434533],\n",
       "        [0.45563424, 0.5523563 ],\n",
       "        [0.45555419, 0.57564354],\n",
       "        [0.45522243, 0.46790034],\n",
       "        [0.45503151, 0.68417925],\n",
       "        [0.45495421, 0.51287395],\n",
       "        [0.45492837, 0.59507251],\n",
       "        [0.45490274, 0.51735389],\n",
       "        [0.45488763, 0.57710755],\n",
       "        [0.45465088, 0.61561519],\n",
       "        [0.4545185 , 0.58647424],\n",
       "        [0.45439693, 0.71988285],\n",
       "        [0.45426095, 0.52061796],\n",
       "        [0.45423254, 0.68609536],\n",
       "        [0.45396766, 0.61013526],\n",
       "        [0.45391104, 0.49204102],\n",
       "        [0.45332086, 0.61036897],\n",
       "        [0.45319301, 0.62124515],\n",
       "        [0.45318547, 0.47547752],\n",
       "        [0.45299098, 0.61582506],\n",
       "        [0.45275056, 0.45395765],\n",
       "        [0.45270568, 0.59794265],\n",
       "        [0.45247069, 0.67053258],\n",
       "        [0.45240778, 0.61548871],\n",
       "        [0.4524025 , 0.67501575],\n",
       "        [0.45213526, 0.60196769],\n",
       "        [0.45207918, 0.64707327],\n",
       "        [0.45186713, 0.5440129 ],\n",
       "        [0.45184472, 0.55487925],\n",
       "        [0.45183823, 0.61697489],\n",
       "        [0.45173329, 0.5977819 ],\n",
       "        [0.451695  , 0.60237104],\n",
       "        [0.45129862, 0.56723887],\n",
       "        [0.45110914, 0.547279  ],\n",
       "        [0.45076632, 0.61108088],\n",
       "        [0.45060697, 0.56185579],\n",
       "        [0.44993678, 0.5827412 ],\n",
       "        [0.44965205, 0.66133392],\n",
       "        [0.44961318, 0.56418437],\n",
       "        [0.44926044, 0.54653001],\n",
       "        [0.44925198, 0.67541319],\n",
       "        [0.44889677, 0.66308153],\n",
       "        [0.44889233, 1.67551863],\n",
       "        [0.44880748, 0.56770706],\n",
       "        [0.44857621, 0.49127635],\n",
       "        [0.44851086, 0.61622959],\n",
       "        [0.44825101, 0.53513032],\n",
       "        [0.44813415, 0.66223103],\n",
       "        [0.44806439, 0.61599296],\n",
       "        [0.44801983, 0.57772523],\n",
       "        [0.44755164, 0.57121593],\n",
       "        [0.44623461, 1.45997822],\n",
       "        [0.44623345, 0.59772253],\n",
       "        [0.44608292, 0.57662994],\n",
       "        [0.4460367 , 0.58405066],\n",
       "        [0.44583237, 0.66138798],\n",
       "        [0.44574606, 0.65116113],\n",
       "        [0.4453482 , 0.59856313],\n",
       "        [0.44521415, 0.53637934],\n",
       "        [0.44514507, 0.61263812],\n",
       "        [0.44408694, 0.52572608],\n",
       "        [0.44380835, 0.56101114],\n",
       "        [0.4437601 , 0.5732758 ],\n",
       "        [0.44333589, 0.62585396],\n",
       "        [0.4433347 , 0.58478761],\n",
       "        [0.44302514, 0.47618026],\n",
       "        [0.44277263, 0.58768362],\n",
       "        [0.44271269, 0.53209656],\n",
       "        [0.44252017, 0.6105566 ],\n",
       "        [0.44201282, 0.44454283],\n",
       "        [0.43946388, 0.53099328],\n",
       "        [0.43916884, 0.56786853],\n",
       "        [0.43887454, 0.52992076],\n",
       "        [0.4385584 , 0.68280077],\n",
       "        [0.43834236, 0.51571125],\n",
       "        [0.4380742 , 0.62185389],\n",
       "        [0.4369345 , 0.66385025],\n",
       "        [0.43630975, 0.54763776],\n",
       "        [0.43496215, 0.66841358],\n",
       "        [0.43482426, 0.52157158],\n",
       "        [0.43470877, 0.53354007],\n",
       "        [0.43307713, 0.58199751],\n",
       "        [0.4329679 , 0.60083681],\n",
       "        [0.43180084, 0.53480864],\n",
       "        [0.43109721, 0.59538078],\n",
       "        [0.4302761 , 0.48938552],\n",
       "        [0.43018895, 0.46176285],\n",
       "        [0.43016449, 0.70425826],\n",
       "        [0.43006402, 0.55714697],\n",
       "        [0.42908549, 0.63391566],\n",
       "        [0.42831093, 1.18354046],\n",
       "        [0.42829108, 0.63786852],\n",
       "        [0.42814973, 1.59755957],\n",
       "        [0.42769435, 0.43603307],\n",
       "        [0.42765075, 0.6018793 ],\n",
       "        [0.42762902, 0.60804296],\n",
       "        [0.42623228, 0.58213574],\n",
       "        [0.42619544, 0.49756023],\n",
       "        [0.42602429, 0.62600166],\n",
       "        [0.42599833, 0.54246491],\n",
       "        [0.42490083, 0.49142081],\n",
       "        [0.42450339, 0.50530535],\n",
       "        [0.42443785, 0.53415394],\n",
       "        [0.42391682, 0.50917709],\n",
       "        [0.42344877, 0.59877384],\n",
       "        [0.42336288, 0.49910498],\n",
       "        [0.42318839, 0.51549524],\n",
       "        [0.42278454, 0.53067195],\n",
       "        [0.42264536, 0.6798768 ],\n",
       "        [0.42241192, 1.19322002],\n",
       "        [0.42205304, 0.45652363],\n",
       "        [0.42112669, 0.52699065],\n",
       "        [0.42094535, 0.52763802],\n",
       "        [0.42086259, 0.56565219],\n",
       "        [0.42084545, 0.59334546],\n",
       "        [0.42068776, 0.51233882],\n",
       "        [0.41876554, 0.56119502],\n",
       "        [0.41874486, 1.22477078],\n",
       "        [0.41778183, 0.43352139],\n",
       "        [0.41574687, 0.55243528],\n",
       "        [0.41540474, 0.56714123],\n",
       "        [0.41460434, 0.57538241],\n",
       "        [0.41375762, 0.53945154],\n",
       "        [0.41369081, 0.48554811],\n",
       "        [0.41338417, 0.51075327],\n",
       "        [0.41330275, 0.51438242],\n",
       "        [0.41312289, 0.55104983],\n",
       "        [0.41287521, 0.50386661],\n",
       "        [0.41238347, 0.53421903],\n",
       "        [0.41019961, 0.53812426],\n",
       "        [0.40992549, 0.55386066],\n",
       "        [0.40862525, 0.68290949],\n",
       "        [0.40844914, 0.47826204],\n",
       "        [0.40827948, 0.50391781],\n",
       "        [0.40655911, 0.42220092],\n",
       "        [0.40577373, 0.46679109],\n",
       "        [0.40565643, 0.46324912],\n",
       "        [0.40468913, 0.49368301],\n",
       "        [0.40461856, 0.54282475],\n",
       "        [0.40203208, 0.51139194],\n",
       "        [0.39958993, 0.48585239],\n",
       "        [0.39812094, 0.55488801],\n",
       "        [0.39586791, 0.49512368],\n",
       "        [0.39219436, 0.50334734],\n",
       "        [0.38998738, 0.45343968],\n",
       "        [0.38491657, 0.53883803],\n",
       "        [0.38284478, 0.4491373 ],\n",
       "        [0.38230529, 0.45412838],\n",
       "        [0.37957367, 0.55264145],\n",
       "        [0.37822139, 0.45688513],\n",
       "        [0.37675235, 0.5445596 ],\n",
       "        [0.37649122, 0.38678744],\n",
       "        [0.37232262, 0.37714526],\n",
       "        [0.37091967, 0.47347084],\n",
       "        [0.35538092, 0.42583415],\n",
       "        [0.34945291, 0.39537519]]),\n",
       " array([[1.64257729, 1.64417887],\n",
       "        [1.62005556, 1.6323278 ],\n",
       "        [1.60533285, 1.66008472],\n",
       "        [1.51329279, 1.51883006],\n",
       "        [1.48558128, 1.54864705],\n",
       "        [1.44945312, 1.47266626],\n",
       "        [1.42774951, 1.45978379],\n",
       "        [1.42450857, 1.44631004],\n",
       "        [1.41969788, 1.43346035],\n",
       "        [1.41731739, 1.41900206],\n",
       "        [1.41697395, 1.46421123],\n",
       "        [1.40979075, 1.42241335],\n",
       "        [1.40922546, 1.434129  ],\n",
       "        [1.40602565, 1.41900206],\n",
       "        [1.3977294 , 1.41913664],\n",
       "        [1.39436007, 1.41972232],\n",
       "        [1.39388013, 1.40354252],\n",
       "        [1.39360952, 1.4013406 ],\n",
       "        [1.39133549, 1.43359315],\n",
       "        [1.38998008, 1.43008828],\n",
       "        [1.38970983, 1.40930665],\n",
       "        [1.38930142, 1.41229939],\n",
       "        [1.38891804, 1.42523062],\n",
       "        [1.38326442, 1.41408479],\n",
       "        [1.38300264, 1.43612814],\n",
       "        [1.38223636, 1.38621068],\n",
       "        [1.38161635, 1.42478561],\n",
       "        [1.38054013, 1.38160217],\n",
       "        [1.38048363, 1.39005709],\n",
       "        [1.38033915, 1.38065338],\n",
       "        [1.38027287, 1.3989476 ],\n",
       "        [1.37951112, 1.38814867],\n",
       "        [1.37919688, 1.41456163],\n",
       "        [1.37411094, 1.3845228 ],\n",
       "        [1.36994505, 1.41722333],\n",
       "        [1.36616719, 1.42101538],\n",
       "        [1.36601293, 1.42525423],\n",
       "        [1.36600673, 1.40765846],\n",
       "        [1.36474717, 1.40941155],\n",
       "        [1.35919535, 1.41220212],\n",
       "        [1.35771012, 1.42119801],\n",
       "        [1.35473049, 1.38877583],\n",
       "        [1.35458004, 1.36360812],\n",
       "        [1.35319889, 1.42523062],\n",
       "        [1.35303354, 1.43261611],\n",
       "        [1.35208583, 1.42933452],\n",
       "        [1.34389746, 1.38984585],\n",
       "        [1.34301853, 1.37010562],\n",
       "        [1.34239173, 1.36746049],\n",
       "        [1.33613372, 1.34852052],\n",
       "        [1.33514225, 1.42690539],\n",
       "        [1.33289254, 1.34683216],\n",
       "        [1.3310039 , 1.37123978],\n",
       "        [1.32770061, 1.33732569],\n",
       "        [1.32295763, 1.38319588],\n",
       "        [1.31072855, 1.3391782 ],\n",
       "        [1.30961072, 1.31984818],\n",
       "        [1.30753922, 1.32892823],\n",
       "        [1.30273187, 1.32244253],\n",
       "        [1.30201805, 1.30789852],\n",
       "        [1.29960811, 1.32914257],\n",
       "        [1.29956973, 1.30430412],\n",
       "        [1.29629076, 1.30663908],\n",
       "        [1.29149997, 1.3538152 ],\n",
       "        [1.28898633, 1.3538152 ],\n",
       "        [1.28513741, 1.29908895],\n",
       "        [1.28438675, 1.3142103 ],\n",
       "        [1.28129101, 1.28846264],\n",
       "        [1.28119636, 1.2818166 ],\n",
       "        [1.28080833, 1.29785252],\n",
       "        [1.277915  , 1.34107006],\n",
       "        [1.27785623, 1.28161883],\n",
       "        [1.27579463, 1.30562651],\n",
       "        [1.27545881, 1.30133235],\n",
       "        [1.27428794, 1.32085145],\n",
       "        [1.27148747, 1.27540576],\n",
       "        [1.27144635, 1.27440679],\n",
       "        [1.26747763, 1.27833509],\n",
       "        [1.26659417, 1.27416277],\n",
       "        [1.26658881, 1.28245306],\n",
       "        [1.26601171, 1.3418628 ],\n",
       "        [1.26373518, 1.31247556],\n",
       "        [1.26308215, 1.28813291],\n",
       "        [1.26158476, 1.28193021],\n",
       "        [1.26047158, 1.31304932],\n",
       "        [1.26034069, 1.43315172],\n",
       "        [1.25963891, 1.30218816],\n",
       "        [1.25930953, 1.32001948],\n",
       "        [1.25790739, 1.2747041 ],\n",
       "        [1.25275791, 1.28371716],\n",
       "        [1.25274134, 1.31177914],\n",
       "        [1.2500881 , 1.30151916],\n",
       "        [1.24477673, 1.26626432],\n",
       "        [1.2441088 , 1.47557688],\n",
       "        [1.24251425, 1.33050787],\n",
       "        [1.24246955, 1.28756344],\n",
       "        [1.23439801, 1.26947939],\n",
       "        [1.2296989 , 1.29370737],\n",
       "        [1.2275939 , 1.29598224],\n",
       "        [1.22702777, 1.25941682],\n",
       "        [1.22425365, 1.28102207],\n",
       "        [1.22378039, 1.28425527],\n",
       "        [1.22006226, 1.22484934],\n",
       "        [1.2195121 , 1.30761325],\n",
       "        [1.21607566, 1.29683149],\n",
       "        [1.21413708, 1.24713898],\n",
       "        [1.2061168 , 1.29466271],\n",
       "        [0.72379619, 1.47601044]])]"
      ]
     },
     "execution_count": 130,
     "metadata": {},
     "output_type": "execute_result"
    }
   ],
   "source": [
    "torus_PH_arrays"
   ]
  },
  {
   "cell_type": "code",
   "execution_count": 131,
   "id": "5a5660e9",
   "metadata": {},
   "outputs": [
    {
     "data": {
      "image/png": "[encoded data removed]",
      "text/plain": [
       "<Figure size 640x480 with 1 Axes>"
      ]
     },
     "metadata": {},
     "output_type": "display_data"
    }
   ],
   "source": [
    "torus_PH_arrays,PH_diagram_barycenters_torus = get_persistence_diagram(rand_sampled_genus3surface,2)"
   ]
  },
  {
   "cell_type": "code",
   "execution_count": null,
   "id": "682ecaf9",
   "metadata": {},
   "outputs": [],
   "source": []
  },
  {
   "cell_type": "markdown",
   "id": "ae7d8dbf",
   "metadata": {},
   "source": [
    "# Persistent homology of original points"
   ]
  },
  {
   "cell_type": "code",
   "execution_count": null,
   "id": "04b70f3f",
   "metadata": {},
   "outputs": [],
   "source": [
    "#torus_PH_arrays_ori,PH_diagram_ori_torus = get_persistence_diagram(point_data_torus,2)"
   ]
  },
  {
   "cell_type": "markdown",
   "id": "2af45850",
   "metadata": {},
   "source": [
    "# observation"
   ]
  },
  {
   "cell_type": "markdown",
   "id": "a82fe303",
   "metadata": {},
   "source": [
    "The persistent homology signatures are very similar but the sacles at which births and deaths occur are different. The birth and death values in PH of barycenters are higher than their counterparts in original points cloud. The same has to be eperimented on image datasets"
   ]
  },
  {
   "cell_type": "code",
   "execution_count": null,
   "id": "ac5da505",
   "metadata": {},
   "outputs": [],
   "source": []
  },
  {
   "cell_type": "markdown",
   "id": "f0306be6",
   "metadata": {},
   "source": [
    "# Sphere"
   ]
  },
  {
   "cell_type": "code",
   "execution_count": 15,
   "id": "aefd3fe5",
   "metadata": {},
   "outputs": [],
   "source": [
    "expr = x**2 + y**2 + z**2 - 1\n",
    "poly = sp.Poly(expr, x, y, z)"
   ]
  },
  {
   "cell_type": "code",
   "execution_count": 16,
   "id": "a7dd84d6",
   "metadata": {},
   "outputs": [
    {
     "data": {
      "text/latex": [
       "$\\displaystyle x^{2} + y^{2} + z^{2} - 1$"
      ],
      "text/plain": [
       "x**2 + y**2 + z**2 - 1"
      ]
     },
     "execution_count": 16,
     "metadata": {},
     "output_type": "execute_result"
    }
   ],
   "source": [
    "expr"
   ]
  },
  {
   "cell_type": "code",
   "execution_count": 17,
   "id": "f7f0969e",
   "metadata": {},
   "outputs": [],
   "source": [
    "    # convert sympy polynomial to minyterpy polynomial\n",
    "newt_poly = sympy_to_mp(poly, mp.NewtonPolynomial)"
   ]
  },
  {
   "cell_type": "code",
   "execution_count": 18,
   "id": "e45bb372",
   "metadata": {},
   "outputs": [],
   "source": [
    "#sample points\n",
    "point_data = sample_points_on_poly(10000,        # Number of points to be sampled\n",
    "                                   newt_poly,  # Polynomial in Newton basis\n",
    "                                   bounds=1, # Boundary of the Cubic domain to be sampled\n",
    "                                   tol=1e-15)  # Tolerance in solution"
   ]
  },
  {
   "cell_type": "code",
   "execution_count": 19,
   "id": "16ee9bb2",
   "metadata": {},
   "outputs": [
    {
     "data": {
      "text/plain": [
       "(10000, 3)"
      ]
     },
     "execution_count": 19,
     "metadata": {},
     "output_type": "execute_result"
    }
   ],
   "source": [
    "point_data.shape"
   ]
  },
  {
   "cell_type": "code",
   "execution_count": 20,
   "id": "f00f36f7",
   "metadata": {},
   "outputs": [
    {
     "data": {
      "application/vnd.jupyter.widget-view+json": {
       "model_id": "48286612b43a4955a90cf250e65dc407",
       "version_major": 2,
       "version_minor": 0
      },
      "text/plain": [
       "ViewInteractiveWidget(height=960, layout=Layout(height='auto', width='100%'), width=960)"
      ]
     },
     "metadata": {},
     "output_type": "display_data"
    }
   ],
   "source": [
    "\n",
    "x_so = point_data[:,0]\n",
    "\n",
    "y_so = point_data[:,1]\n",
    "\n",
    "z_so = point_data[:,2]\n",
    "\n",
    "\n",
    "plot_points = [x_so,y_so,z_so]\n",
    "Points(plot_points).show(axes=1)"
   ]
  },
  {
   "cell_type": "code",
   "execution_count": 24,
   "id": "a61be9b3",
   "metadata": {},
   "outputs": [],
   "source": [
    "sphere_bary = get_convergent_barycenters(point_data, point_data[0], 0.25)"
   ]
  },
  {
   "cell_type": "code",
   "execution_count": 25,
   "id": "7e2d5dcb",
   "metadata": {},
   "outputs": [
    {
     "data": {
      "text/plain": [
       "torch.Size([120, 3])"
      ]
     },
     "execution_count": 25,
     "metadata": {},
     "output_type": "execute_result"
    }
   ],
   "source": [
    "sphere_bary.shape"
   ]
  },
  {
   "cell_type": "markdown",
   "id": "9511950e",
   "metadata": {},
   "source": [
    "# Plotting sphere barycenters"
   ]
  },
  {
   "cell_type": "code",
   "execution_count": 34,
   "id": "4012a544",
   "metadata": {},
   "outputs": [
    {
     "data": {
      "application/vnd.jupyter.widget-view+json": {
       "model_id": "289c33e3322a4e8381b227869bfaf793",
       "version_major": 2,
       "version_minor": 0
      },
      "text/plain": [
       "ViewInteractiveWidget(height=960, layout=Layout(height='auto', width='100%'), width=960)"
      ]
     },
     "metadata": {},
     "output_type": "display_data"
    }
   ],
   "source": [
    "\n",
    "x_spb = sphere_bary[:,0]\n",
    "\n",
    "y_spb = sphere_bary[:,1]\n",
    "\n",
    "z_spb = sphere_bary[:,2]\n",
    "\n",
    "\n",
    "plot_points = [x_spb,y_spb,z_spb]\n",
    "Points(plot_points).show(axes=1)"
   ]
  },
  {
   "cell_type": "code",
   "execution_count": 20,
   "id": "14d96094",
   "metadata": {},
   "outputs": [
    {
     "name": "stderr",
     "output_type": "stream",
     "text": [
      "/tmp/ipykernel_11341/1703124144.py:3: UserWarning: To copy construct from a tensor, it is recommended to use sourceTensor.clone().detach() or sourceTensor.clone().detach().requires_grad_(True), rather than torch.tensor(sourceTensor).\n",
      "  point_cloud = torch.tensor(point_cloud)\n"
     ]
    },
    {
     "data": {
      "image/png": "[encoded data removed]",
      "text/plain": [
       "<Figure size 640x480 with 1 Axes>"
      ]
     },
     "metadata": {},
     "output_type": "display_data"
    }
   ],
   "source": [
    "sphere_PH_arrays,PH_diagram_barycenters_sphere = get_persistence_diagram(sphere_bary,3)"
   ]
  },
  {
   "cell_type": "code",
   "execution_count": null,
   "id": "4c3c84e2",
   "metadata": {},
   "outputs": [],
   "source": []
  },
  {
   "cell_type": "code",
   "execution_count": null,
   "id": "d6d2a791",
   "metadata": {},
   "outputs": [],
   "source": []
  },
  {
   "cell_type": "code",
   "execution_count": null,
   "id": "d114b486",
   "metadata": {},
   "outputs": [],
   "source": []
  },
  {
   "cell_type": "markdown",
   "id": "c9922596",
   "metadata": {},
   "source": [
    "# Trajectory of barycenter smpling on sphere\n"
   ]
  },
  {
   "cell_type": "code",
   "execution_count": null,
   "id": "39076367",
   "metadata": {},
   "outputs": [],
   "source": [
    "\n",
    "fig = matplotlib.pyplot.figure()\n",
    "ax  = fig.add_subplot(111, projection = '3d')\n",
    "\n",
    "X = sphere_bary[:,0]\n",
    "Y = sphere_bary[:,1]\n",
    "Z = sphere_bary[:,2]\n",
    "ax.plot(X, Y, Z, color = 'b')\n",
    "plt.show()"
   ]
  },
  {
   "cell_type": "code",
   "execution_count": null,
   "id": "ad21ac51",
   "metadata": {},
   "outputs": [],
   "source": [
    "#original point cloud sphere persistence diagram\n",
    "\n",
    "PH_diagram_spheres = get_persistence_diagram(point_data,2)"
   ]
  },
  {
   "cell_type": "code",
   "execution_count": null,
   "id": "31ea7e75",
   "metadata": {},
   "outputs": [],
   "source": [
    "# barycentyers of sphere persistence diagram\n",
    "\n",
    "\n",
    "PH_diagram_barycenters_sphere = get_persistence_diagram(sphere_bary, 2)"
   ]
  },
  {
   "cell_type": "markdown",
   "id": "68f4d632",
   "metadata": {},
   "source": [
    "# 4 D sphere"
   ]
  },
  {
   "cell_type": "code",
   "execution_count": null,
   "id": "61923ced",
   "metadata": {},
   "outputs": [],
   "source": [
    "expr = w**2 + x**2 + y**2 + z**2 - 1\n",
    "poly = sp.Poly(expr,w, x, y, z)"
   ]
  },
  {
   "cell_type": "code",
   "execution_count": null,
   "id": "e3b49b5d",
   "metadata": {},
   "outputs": [],
   "source": []
  }
 ],
 "metadata": {
  "kernelspec": {
   "display_name": "Python 3 (ipykernel)",
   "language": "python",
   "name": "python3"
  },
  "language_info": {
   "codemirror_mode": {
    "name": "ipython",
    "version": 3
   },
   "file_extension": ".py",
   "mimetype": "text/x-python",
   "name": "python",
   "nbconvert_exporter": "python",
   "pygments_lexer": "ipython3",
   "version": "3.9.7"
  }
 },
 "nbformat": 4,
 "nbformat_minor": 5
}
