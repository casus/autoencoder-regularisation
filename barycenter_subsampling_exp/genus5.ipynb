{
 "cells": [
  {
   "cell_type": "code",
   "execution_count": 1,
   "id": "181717e4",
   "metadata": {},
   "outputs": [],
   "source": [
    "import sympy as sp\n",
    "import minterpy as mp\n",
    "import numpy as np\n",
    "from minterpy.pointcloud_utils import *\n",
    "\n",
    "from mpl_toolkits import mplot3d\n",
    "%matplotlib inline\n",
    "\n",
    "from mpl_toolkits.mplot3d import axes3d\n",
    "\n",
    "import torch\n",
    "import torchvision\n",
    "from torchvision import transforms, datasets\n",
    "\n",
    "import random\n",
    "import numpy as np\n",
    "import matplotlib.pyplot as plt\n",
    "\n",
    "import os\n",
    "from operator import itemgetter\n",
    "\n",
    "device = torch.device('cuda' if torch.cuda.is_available() else 'cpu')\n",
    "\n",
    "import ot\n",
    "\n",
    "from sklearn.neighbors import NearestNeighbors\n",
    "\n",
    "import ripser\n",
    "import persim\n",
    "from persim import plot_diagrams\n",
    "\n",
    "from operator import itemgetter\n",
    "\n",
    "\n",
    "#do pip installs as follows to use vedo for plotting point clouds\n",
    "#pip install vedo\n",
    "#pip install ipyvtklink\n",
    "\n",
    "import numpy as np\n",
    "from vedo import *\n",
    "\n",
    "import matplotlib.pyplot\n",
    "from mpl_toolkits.mplot3d import Axes3D"
   ]
  },
  {
   "cell_type": "code",
   "execution_count": 2,
   "id": "139b288d",
   "metadata": {},
   "outputs": [],
   "source": [
    "def give_centeroid(arr):\n",
    "    length = arr.shape[0]\n",
    "    sum_x = np.sum(arr[:, 0])\n",
    "    sum_y = np.sum(arr[:, 1])\n",
    "    sum_z = np.sum(arr[:, 2])\n",
    "    return np.array([[sum_x/length, sum_y/length, sum_z/length]])"
   ]
  },
  {
   "cell_type": "code",
   "execution_count": 3,
   "id": "90d8e3be",
   "metadata": {},
   "outputs": [],
   "source": [
    "def give_next_neighbours_barycenter_indices(batch_x, input_barycenter, remaining_indices, sweep_radsius):\n",
    "    \n",
    "  #sweep_radsius = 0.2\n",
    "  #num_neighbours = int(batch_x.shape[0] / no_of_barycenetrs_required)\n",
    "    \n",
    "  wasserDistance = []\n",
    "  distance_cum_index = np.array([])\n",
    "\n",
    "  for j in remaining_indices:\n",
    "    \n",
    "    wassDistance = dist = np.linalg.norm(batch_x[j]-input_barycenter)\n",
    "\n",
    "    distance_cum_index = np.concatenate((distance_cum_index, np.array([wassDistance, j])), axis = 0)\n",
    "   \n",
    "  distance_cum_index = distance_cum_index.reshape(int(distance_cum_index.shape[0]/2), 2)\n",
    "  distance_cum_index = sorted(distance_cum_index, key=itemgetter(0))\n",
    "  \n",
    "  distance_cum_index = np.array(distance_cum_index)\n",
    "  \n",
    "  only_distances = distance_cum_index[:,0]\n",
    "  #print(only_distances)\n",
    "  where_is_it = np.where( only_distances < sweep_radsius ) \n",
    "  #print('where_is_it', where_is_it)  \n",
    "  #print('where_is_it[0][-1]', where_is_it[0][-1])\n",
    "  num_neighbours = where_is_it[0][-1] +1\n",
    "  #print('where_is_it[0]', where_is_it[0])\n",
    "  #print('where_is_it[0][-1]', where_is_it[0][-1])\n",
    "  #print('num_neighbours',num_neighbours)\n",
    "  #break\n",
    "  #print('distance_cum_index',distance_cum_index[:,1])\n",
    "  remaining_indices = distance_cum_index[:,1]\n",
    "\n",
    "  remaining_indices = remaining_indices.astype(int)\n",
    "  \n",
    "    \n",
    "  A = np.array([])\n",
    "  for i in range(num_neighbours):\n",
    "    if(i >= distance_cum_index[:,1].shape[0]):\n",
    "        break\n",
    "    A = np.concatenate((A, batch_x[int(distance_cum_index[:,1][i])]), axis = 0 )\n",
    "  \n",
    "  A = A.reshape(int(A.shape[0]/3) , 3)\n",
    "  \n",
    "  #print(\"The shape of A is \")\n",
    "  #print(A.shape)\n",
    "  next_barycenter = give_centeroid(A) \n",
    "  \n",
    "  next_barycenter = np.array(next_barycenter)\n",
    "  #print(next_barycenter.shape)\n",
    "  next_barycenter = next_barycenter.reshape(next_barycenter.shape[0]* next_barycenter.shape[1])\n",
    "  #print(next_barycenter)  \n",
    "  return A, next_barycenter, remaining_indices,num_neighbours\n"
   ]
  },
  {
   "cell_type": "code",
   "execution_count": 4,
   "id": "96a90c0d",
   "metadata": {},
   "outputs": [],
   "source": [
    "def get_convergent_barycenters(point_cloud, initial_pt,sweep_radsius):   \n",
    "    \n",
    "    #no_neighbours = int(point_cloud.shape[0] / no_of_barycenetrs_required)\n",
    "    #initiating no of neighbours\n",
    "    #no_neighbours = 5\n",
    "    \n",
    "    #num_neighbours = int(batch_x.shape[0] / no_of_barycenetrs_required)\n",
    "\n",
    "    \n",
    "    bary = initial_pt\n",
    "    rem_indices = np.array(range(0,point_cloud.shape[0]))\n",
    "    #print(rem_indices)\n",
    "    #print(\"Size of batch : \", point_cloud.shape[0])\n",
    "    sampled_barycenters = np.array([])\n",
    "    sampled_barycenters = torch.tensor(sampled_barycenters)\n",
    "    covered_indices = np.array([])\n",
    "\n",
    "    for i in range(int(point_cloud.shape[0])):\n",
    "\n",
    "        if(len(rem_indices) == 2):\n",
    "            #print(\"END\")\n",
    "            break\n",
    "\n",
    "        #print(\"Iteration number : \", i+1)\n",
    "        #print(\"Input barycenter : \")\n",
    "\n",
    "\n",
    "        old_bary = bary\n",
    "\n",
    "\n",
    "        #print('rem_indices before', rem_indices)\n",
    "        neighbours, bary, rem_indices, no_neighbours = give_next_neighbours_barycenter_indices(point_cloud, bary, rem_indices, sweep_radsius)\n",
    "        #print('no_neighbours', no_neighbours)\n",
    "        #break\n",
    "        wassDistance = np.linalg.norm(old_bary - bary)  \n",
    "\n",
    "        covered_indices = np.concatenate((covered_indices, rem_indices[:4] ) ,axis = 0)\n",
    "\n",
    "\n",
    "        #print(\"Tracking distance between new barycenter and previous barycenter : \",wassDistance )\n",
    "        if(wassDistance < 0.000001):\n",
    "\n",
    "            unique_covered_indices = np.unique(covered_indices, axis=0)\n",
    "            sampled_barycenters = torch.cat((sampled_barycenters, torch.tensor(bary)), 0)\n",
    "\n",
    "            s1 = set(rem_indices)\n",
    "            s2 = set(unique_covered_indices)\n",
    "            rem_set = s1 - s2\n",
    "            rem_inds = list(rem_set)\n",
    "            #rem_indices = rem_set\n",
    "            rem_indices = rem_indices[no_neighbours:]\n",
    "\n",
    "            #print(\"Sampled barycenters are\")\n",
    "            #print(sampled_barycenters)\n",
    "            #no_neighbours = 5\n",
    "            #print('rem_indices',rem_indices)\n",
    "            #print(\"len(rem_indices)\",len(rem_indices))\n",
    "            if(len(rem_indices) ==0):\n",
    "                break\n",
    "            bary = point_cloud[rem_indices[0]]\n",
    "    sampled_barycenters = sampled_barycenters.reshape(int((sampled_barycenters.shape[0]/3)),3)\n",
    "    \n",
    "    return sampled_barycenters"
   ]
  },
  {
   "cell_type": "code",
   "execution_count": 5,
   "id": "f6578967",
   "metadata": {},
   "outputs": [],
   "source": [
    "def _compute_distance_matrix(x, p=2):\n",
    "    x_flat = x.view(x.size(0), -1)\n",
    "\n",
    "    distances = torch.norm(x_flat[:, None] - x_flat, dim=2, p=p)\n",
    "\n",
    "    return distances"
   ]
  },
  {
   "cell_type": "code",
   "execution_count": 6,
   "id": "36fc4884",
   "metadata": {},
   "outputs": [],
   "source": [
    "def get_persistence_diagram(point_cloud, maximum_dim):\n",
    "\n",
    "    point_cloud = torch.tensor(point_cloud)\n",
    "\n",
    "    dist_matrix = _compute_distance_matrix(point_cloud, p=2)\n",
    "    diagrams = ripser.ripser(dist_matrix.cpu().detach().numpy(), distance_matrix=True, maxdim=maximum_dim)['dgms']\n",
    "    return diagrams, plot_diagrams(diagrams, show=True)\n"
   ]
  },
  {
   "cell_type": "markdown",
   "id": "bf6d86ff",
   "metadata": {},
   "source": [
    "# Torus in 3D"
   ]
  },
  {
   "cell_type": "code",
   "execution_count": 7,
   "id": "555e0be5",
   "metadata": {},
   "outputs": [],
   "source": [
    "x, y, z = sp.symbols('x y z')\n"
   ]
  },
  {
   "cell_type": "code",
   "execution_count": 8,
   "id": "3837199a",
   "metadata": {},
   "outputs": [],
   "source": [
    "## Torus\n",
    "R = 1.5\n",
    "r = 0.7\n",
    "expr_torus = (x**2 + y**2 + z**2 + R**2 - r**2)**2 - 4*R**2*(x**2 + y**2)\n"
   ]
  },
  {
   "cell_type": "code",
   "execution_count": 9,
   "id": "83e33d45",
   "metadata": {},
   "outputs": [
    {
     "data": {
      "text/latex": [
       "$\\displaystyle - 9.0 x^{2} - 9.0 y^{2} + 3.0976 \\left(0.568181818181818 x^{2} + 0.568181818181818 y^{2} + 0.568181818181818 z^{2} + 1\\right)^{2}$"
      ],
      "text/plain": [
       "-9.0*x**2 - 9.0*y**2 + 3.0976*(0.568181818181818*x**2 + 0.568181818181818*y**2 + 0.568181818181818*z**2 + 1)**2"
      ]
     },
     "execution_count": 9,
     "metadata": {},
     "output_type": "execute_result"
    }
   ],
   "source": [
    "expr_torus"
   ]
  },
  {
   "cell_type": "code",
   "execution_count": 10,
   "id": "d9a1cbf3",
   "metadata": {},
   "outputs": [],
   "source": [
    "poly_torus = sp.Poly(expr_torus, x, y, z)"
   ]
  },
  {
   "cell_type": "code",
   "execution_count": 11,
   "id": "1a72041a",
   "metadata": {},
   "outputs": [
    {
     "data": {
      "text/latex": [
       "$\\displaystyle 1.0 x^{4} + 2.0 x^{2} y^{2} + 2.0 x^{2} z^{2} - 5.48 x^{2} + 1.0 y^{4} + 2.0 y^{2} z^{2} - 5.48 y^{2} + 1.0 z^{4} + 3.52 z^{2} + 3.0976$"
      ],
      "text/plain": [
       "1.0*x**4 + 2.0*x**2*y**2 + 2.0*x**2*z**2 - 5.48*x**2 + 1.0*y**4 + 2.0*y**2*z**2 - 5.48*y**2 + 1.0*z**4 + 3.52*z**2 + 3.0976"
      ]
     },
     "execution_count": 11,
     "metadata": {},
     "output_type": "execute_result"
    }
   ],
   "source": [
    "sp.expand(expr_torus)"
   ]
  },
  {
   "cell_type": "code",
   "execution_count": 12,
   "id": "10a12425",
   "metadata": {},
   "outputs": [],
   "source": [
    "#Convert sympy polynomial to minterpy polynomial\n",
    "\n",
    "newt_poly_torus = sympy_to_mp(poly_torus, mp.NewtonPolynomial)"
   ]
  },
  {
   "cell_type": "markdown",
   "id": "1c023a1b",
   "metadata": {},
   "source": [
    "# Trials on Torus : "
   ]
  },
  {
   "cell_type": "code",
   "execution_count": 13,
   "id": "b5aa148d",
   "metadata": {},
   "outputs": [],
   "source": [
    "#Sample points on the zero isocontour\n",
    "def points_on_torus(num_points):\n",
    "    \n",
    "    point_data_torus = sample_points_on_poly(num_points,        # Number of points to be sampled\n",
    "                                       newt_poly_torus,  # Polynomial in Newton basis\n",
    "                                       bounds=3.0, # Boundary of the Cubic domain to be sampled\n",
    "                                       tol=1e-15)  # Tolerance in solution\n",
    "    \n",
    "    return point_data_torus"
   ]
  },
  {
   "cell_type": "markdown",
   "id": "7445a390",
   "metadata": {},
   "source": [
    "# 1. 1000 barycenters from 10000 points"
   ]
  },
  {
   "cell_type": "code",
   "execution_count": null,
   "id": "495fe425",
   "metadata": {},
   "outputs": [],
   "source": []
  },
  {
   "cell_type": "code",
   "execution_count": 14,
   "id": "fb391cc8",
   "metadata": {},
   "outputs": [],
   "source": [
    "#Sample points on the zero isocontour\n",
    "\n",
    "point_data_torus = sample_points_on_poly(8000,        # Number of points to be sampled\n",
    "                                   newt_poly_torus,  # Polynomial in Newton basis\n",
    "                                   bounds=3.0, # Boundary of the Cubic domain to be sampled\n",
    "                                   tol=1e-15)  # Tolerance in solution"
   ]
  },
  {
   "cell_type": "code",
   "execution_count": 15,
   "id": "d45e911d",
   "metadata": {},
   "outputs": [
    {
     "data": {
      "text/plain": [
       "(8000, 3)"
      ]
     },
     "execution_count": 15,
     "metadata": {},
     "output_type": "execute_result"
    }
   ],
   "source": [
    "point_data_torus.shape"
   ]
  },
  {
   "cell_type": "code",
   "execution_count": 16,
   "id": "b7ffc160",
   "metadata": {},
   "outputs": [],
   "source": [
    "cut_torus1 = point_data_torus[np.where(point_data_torus[:,0]<1.5)]\n",
    "\n",
    "cut_torus2 = (point_data_torus[np.where(point_data_torus[:,0]>-1.5)]+np.array([1.4, 0, 0])*2)*1.1"
   ]
  },
  {
   "cell_type": "code",
   "execution_count": 17,
   "id": "fe75753a",
   "metadata": {},
   "outputs": [
    {
     "data": {
      "application/vnd.jupyter.widget-view+json": {
       "model_id": "c9930ae6285146418914492d67ac0e23",
       "version_major": 2,
       "version_minor": 0
      },
      "text/plain": [
       "ViewInteractiveWidget(height=960, layout=Layout(height='auto', width='100%'), width=960)"
      ]
     },
     "metadata": {},
     "output_type": "display_data"
    }
   ],
   "source": [
    "x_t = point_data_torus[:,0]\n",
    "y_t = point_data_torus[:,1]\n",
    "z_t = point_data_torus[:,2]\n",
    "\n",
    "\n",
    "plot_points = [x_t,y_t,z_t]\n",
    "Points(plot_points).show(axes=1)"
   ]
  },
  {
   "cell_type": "code",
   "execution_count": 18,
   "id": "2e02ac21",
   "metadata": {},
   "outputs": [
    {
     "data": {
      "application/vnd.jupyter.widget-view+json": {
       "model_id": "6dd55796e554489e8869a0e03b2e3888",
       "version_major": 2,
       "version_minor": 0
      },
      "text/plain": [
       "ViewInteractiveWidget(height=960, layout=Layout(height='auto', width='100%'), width=960)"
      ]
     },
     "metadata": {},
     "output_type": "display_data"
    }
   ],
   "source": [
    "x_t = cut_torus1[:,0]\n",
    "y_t = cut_torus1[:,1]\n",
    "z_t = cut_torus1[:,2]\n",
    "\n",
    "\n",
    "plot_points = [x_t,y_t,z_t]\n",
    "Points(plot_points).show(axes=1)"
   ]
  },
  {
   "cell_type": "code",
   "execution_count": 19,
   "id": "463fddab",
   "metadata": {},
   "outputs": [
    {
     "data": {
      "application/vnd.jupyter.widget-view+json": {
       "model_id": "40920830d8574bbb9135cf885c2762f9",
       "version_major": 2,
       "version_minor": 0
      },
      "text/plain": [
       "ViewInteractiveWidget(height=960, layout=Layout(height='auto', width='100%'), width=960)"
      ]
     },
     "metadata": {},
     "output_type": "display_data"
    }
   ],
   "source": [
    "x_t = cut_torus2[:,0]\n",
    "y_t = cut_torus2[:,1]\n",
    "z_t = cut_torus2[:,2]\n",
    "\n",
    "\n",
    "plot_points = [x_t,y_t,z_t]\n",
    "Points(plot_points).show(axes=1)"
   ]
  },
  {
   "cell_type": "code",
   "execution_count": 20,
   "id": "dba3dd26",
   "metadata": {},
   "outputs": [],
   "source": [
    "joined_torus = np.concatenate((cut_torus1, cut_torus2))"
   ]
  },
  {
   "cell_type": "code",
   "execution_count": 21,
   "id": "8f7a3afb",
   "metadata": {},
   "outputs": [],
   "source": [
    "joined_torus_lower_cut = joined_torus[np.where(joined_torus[:,1]>-1.3)]"
   ]
  },
  {
   "cell_type": "code",
   "execution_count": 22,
   "id": "088f4d0a",
   "metadata": {},
   "outputs": [
    {
     "data": {
      "application/vnd.jupyter.widget-view+json": {
       "model_id": "06fe55258b1e4eb0a3f1cbb0ff85dd9c",
       "version_major": 2,
       "version_minor": 0
      },
      "text/plain": [
       "ViewInteractiveWidget(height=960, layout=Layout(height='auto', width='100%'), width=960)"
      ]
     },
     "metadata": {},
     "output_type": "display_data"
    }
   ],
   "source": [
    "x_t = joined_torus[:,0]\n",
    "y_t = joined_torus[:,1]\n",
    "z_t = joined_torus[:,2]\n",
    "\n",
    "\n",
    "plot_points = [x_t,y_t,z_t]\n",
    "Points(plot_points).show(axes=1)"
   ]
  },
  {
   "cell_type": "code",
   "execution_count": 23,
   "id": "5e1a05fa",
   "metadata": {},
   "outputs": [
    {
     "data": {
      "application/vnd.jupyter.widget-view+json": {
       "model_id": "78ae757d31f045979fff6268b9126188",
       "version_major": 2,
       "version_minor": 0
      },
      "text/plain": [
       "ViewInteractiveWidget(height=960, layout=Layout(height='auto', width='100%'), width=960)"
      ]
     },
     "metadata": {},
     "output_type": "display_data"
    }
   ],
   "source": [
    "x_t = joined_torus_lower_cut[:,0]\n",
    "y_t = joined_torus_lower_cut[:,1]\n",
    "z_t = joined_torus_lower_cut[:,2]\n",
    "\n",
    "\n",
    "plot_points = [x_t,y_t,z_t]\n",
    "Points(plot_points).show(axes=1)"
   ]
  },
  {
   "cell_type": "code",
   "execution_count": 24,
   "id": "2f0cd522",
   "metadata": {},
   "outputs": [],
   "source": [
    "stretched_upper_cut_torus = ((point_data_torus[np.where(point_data_torus[:,1]<1.5)])*np.array([2.2, 1.0 ,1.0])) + np.array([1.7, -2.8, 0])"
   ]
  },
  {
   "cell_type": "code",
   "execution_count": 25,
   "id": "9f1457c1",
   "metadata": {},
   "outputs": [
    {
     "data": {
      "application/vnd.jupyter.widget-view+json": {
       "model_id": "5a7bc05a397b46d5a363460ae74718b2",
       "version_major": 2,
       "version_minor": 0
      },
      "text/plain": [
       "ViewInteractiveWidget(height=960, layout=Layout(height='auto', width='100%'), width=960)"
      ]
     },
     "metadata": {},
     "output_type": "display_data"
    }
   ],
   "source": [
    "x_t = stretched_upper_cut_torus[:,0]\n",
    "y_t = stretched_upper_cut_torus[:,1]\n",
    "z_t = stretched_upper_cut_torus[:,2]\n",
    "\n",
    "\n",
    "plot_points = [x_t,y_t,z_t]\n",
    "Points(plot_points).show(axes=1)"
   ]
  },
  {
   "cell_type": "code",
   "execution_count": 26,
   "id": "22f08a2e",
   "metadata": {},
   "outputs": [],
   "source": [
    "genus3surface = np.concatenate((joined_torus_lower_cut,stretched_upper_cut_torus ))\n",
    "\n",
    "genus3surface = genus3surface[np.where(genus3surface[:,1]<2.0)]\n"
   ]
  },
  {
   "cell_type": "code",
   "execution_count": 27,
   "id": "006acc3f",
   "metadata": {},
   "outputs": [
    {
     "data": {
      "application/vnd.jupyter.widget-view+json": {
       "model_id": "53a5666918e248c7ab2d587e337f88d8",
       "version_major": 2,
       "version_minor": 0
      },
      "text/plain": [
       "ViewInteractiveWidget(height=960, layout=Layout(height='auto', width='100%'), width=960)"
      ]
     },
     "metadata": {},
     "output_type": "display_data"
    }
   ],
   "source": [
    "x_t = genus3surface[:,0]\n",
    "y_t = genus3surface[:,1]\n",
    "z_t = genus3surface[:,2]\n",
    "\n",
    "\n",
    "plot_points = [x_t,y_t,z_t]\n",
    "Points(plot_points).show(axes=1)"
   ]
  },
  {
   "cell_type": "code",
   "execution_count": 28,
   "id": "9c6197d2",
   "metadata": {},
   "outputs": [],
   "source": [
    "rotator1 = np.array([[np.cos(0.3), -1*np.sin(0.3), 0],[np.sin(0.3), -1*np.cos(0.3), 0], [0, 0, 1]]) \n",
    "\n",
    "\n"
   ]
  },
  {
   "cell_type": "code",
   "execution_count": null,
   "id": "9f9a22e8",
   "metadata": {},
   "outputs": [],
   "source": []
  },
  {
   "cell_type": "code",
   "execution_count": 29,
   "id": "803a49ed",
   "metadata": {},
   "outputs": [],
   "source": [
    "\n",
    "ear1b = np.matmul(point_data_torus, rotator1)# + np.array([-4, 4, 0])\n",
    "\n",
    "ear1 = ear1b[np.where(ear1b[:,1] > -1.7) ] + np.array([-1.15, 3.7, 0])\n",
    "\n",
    "ear1 = ear1 * 0.94\n",
    "\n",
    "ear2b = ear1b * np.array([1, -1, 1])# + np.array([8, 8, 0]) \n",
    "ear2 = ear2b[np.where(ear2b[:,1] > -1.5)] + np.array([4, 3.5, 0]) \n",
    "#ear2 = ear1 * np.array([1, -1, 1])"
   ]
  },
  {
   "cell_type": "code",
   "execution_count": 30,
   "id": "35fc0854",
   "metadata": {},
   "outputs": [
    {
     "data": {
      "application/vnd.jupyter.widget-view+json": {
       "model_id": "978d280af160428ab507bb10dbb2a73e",
       "version_major": 2,
       "version_minor": 0
      },
      "text/plain": [
       "ViewInteractiveWidget(height=960, layout=Layout(height='auto', width='100%'), width=960)"
      ]
     },
     "metadata": {},
     "output_type": "display_data"
    }
   ],
   "source": [
    "x_t = ear1[:,0] \n",
    "y_t = ear1[:,1] \n",
    "z_t = ear1[:,2]\n",
    "\n",
    "\n",
    "plot_points = [x_t,y_t,z_t]\n",
    "Points(plot_points).show(axes=1)"
   ]
  },
  {
   "cell_type": "code",
   "execution_count": 31,
   "id": "9e15a6e3",
   "metadata": {},
   "outputs": [
    {
     "data": {
      "application/vnd.jupyter.widget-view+json": {
       "model_id": "138055a377c54ef2a6580d7575d02922",
       "version_major": 2,
       "version_minor": 0
      },
      "text/plain": [
       "ViewInteractiveWidget(height=960, layout=Layout(height='auto', width='100%'), width=960)"
      ]
     },
     "metadata": {},
     "output_type": "display_data"
    }
   ],
   "source": [
    "x_t = ear2[:,0] \n",
    "y_t = ear2[:,1] \n",
    "z_t = ear2[:,2]\n",
    "\n",
    "\n",
    "plot_points = [x_t,y_t,z_t]\n",
    "Points(plot_points).show(axes=1)"
   ]
  },
  {
   "cell_type": "code",
   "execution_count": 32,
   "id": "175ef964",
   "metadata": {},
   "outputs": [
    {
     "data": {
      "application/vnd.jupyter.widget-view+json": {
       "model_id": "d18b31260b6d4c2da5e233a7b6ee6250",
       "version_major": 2,
       "version_minor": 0
      },
      "text/plain": [
       "ViewInteractiveWidget(height=960, layout=Layout(height='auto', width='100%'), width=960)"
      ]
     },
     "metadata": {},
     "output_type": "display_data"
    }
   ],
   "source": [
    "x_t = ear2b[:,0] \n",
    "y_t = ear2b[:,1] \n",
    "z_t = ear2b[:,2]\n",
    "\n",
    "\n",
    "plot_points = [x_t,y_t,z_t]\n",
    "Points(plot_points).show(axes=1)"
   ]
  },
  {
   "cell_type": "code",
   "execution_count": null,
   "id": "2bbc9734",
   "metadata": {},
   "outputs": [],
   "source": []
  },
  {
   "cell_type": "code",
   "execution_count": 33,
   "id": "ea466280",
   "metadata": {},
   "outputs": [],
   "source": [
    "bunny = np.concatenate((genus3surface,ear1, ear2 ))"
   ]
  },
  {
   "cell_type": "code",
   "execution_count": 58,
   "id": "dd0a9fa0",
   "metadata": {},
   "outputs": [
    {
     "data": {
      "application/vnd.jupyter.widget-view+json": {
       "model_id": "86577aba2488468b90ddd15b55110a61",
       "version_major": 2,
       "version_minor": 0
      },
      "text/plain": [
       "ViewInteractiveWidget(height=960, layout=Layout(height='auto', width='100%'), width=960)"
      ]
     },
     "metadata": {},
     "output_type": "display_data"
    }
   ],
   "source": [
    "x_t = bunny[:,0] \n",
    "y_t = bunny[:,1] \n",
    "z_t = bunny[:,2]\n",
    "\n",
    "\n",
    "plot_points = [x_t,y_t,z_t]\n",
    "Points(plot_points).show(axes=1)"
   ]
  },
  {
   "cell_type": "code",
   "execution_count": 35,
   "id": "198ebb9b",
   "metadata": {},
   "outputs": [
    {
     "data": {
      "text/plain": [
       "(31444, 3)"
      ]
     },
     "execution_count": 35,
     "metadata": {},
     "output_type": "execute_result"
    }
   ],
   "source": [
    "bunny.shape"
   ]
  },
  {
   "cell_type": "code",
   "execution_count": 36,
   "id": "d18676b0",
   "metadata": {},
   "outputs": [],
   "source": [
    "rand_sampled_bunny = bunny[np.random.randint(0,31444, 614)]"
   ]
  },
  {
   "cell_type": "code",
   "execution_count": 45,
   "id": "a1777286",
   "metadata": {},
   "outputs": [],
   "source": [
    "torch.save( bunny, '/media/chethan/New Volume/Thesis/circle_torus_autoencoder_experiments/val3dgenus5.pt')"
   ]
  },
  {
   "cell_type": "code",
   "execution_count": null,
   "id": "0e0f5b77",
   "metadata": {},
   "outputs": [],
   "source": []
  },
  {
   "cell_type": "code",
   "execution_count": null,
   "id": "71612618",
   "metadata": {},
   "outputs": [],
   "source": []
  },
  {
   "cell_type": "markdown",
   "id": "616c6273",
   "metadata": {},
   "source": [
    "# demo of barycenter convergence on a torus\n"
   ]
  },
  {
   "cell_type": "code",
   "execution_count": 60,
   "id": "c9292d66",
   "metadata": {
    "scrolled": true
   },
   "outputs": [],
   "source": [
    "bunny_bary = get_convergent_barycenters(bunny, bunny[0],0.23)"
   ]
  },
  {
   "cell_type": "code",
   "execution_count": 61,
   "id": "7bc34b28",
   "metadata": {},
   "outputs": [
    {
     "data": {
      "text/plain": [
       "torch.Size([1737, 3])"
      ]
     },
     "execution_count": 61,
     "metadata": {},
     "output_type": "execute_result"
    }
   ],
   "source": [
    "bunny_bary.shape"
   ]
  },
  {
   "cell_type": "code",
   "execution_count": 62,
   "id": "e45093ec",
   "metadata": {},
   "outputs": [],
   "source": [
    "#bunny_bary = np.concatenate((bunny_bary, bunny_bary[0].reshape(1,3)*0.01, bunny_bary[10].reshape(1,3)*0.01 ))"
   ]
  },
  {
   "cell_type": "code",
   "execution_count": 63,
   "id": "eefb7332",
   "metadata": {},
   "outputs": [],
   "source": [
    "bunny_bary = bunny_bary[np.random.randint(0,bunny_bary.shape[0], bunny_bary.shape[0])]\n",
    "\n"
   ]
  },
  {
   "cell_type": "code",
   "execution_count": 64,
   "id": "f9a20a5d",
   "metadata": {},
   "outputs": [],
   "source": [
    "#bunny_bary = torch.load('/media/chethan/New Volume/Thesis/circle_torus_autoencoder_experiments/min3d1212ptsBunny.pt')"
   ]
  },
  {
   "cell_type": "code",
   "execution_count": 65,
   "id": "6c1c223f",
   "metadata": {
    "scrolled": false
   },
   "outputs": [
    {
     "data": {
      "application/vnd.jupyter.widget-view+json": {
       "model_id": "4de9d7a51c094fa89ac75559ae947a04",
       "version_major": 2,
       "version_minor": 0
      },
      "text/plain": [
       "ViewInteractiveWidget(height=960, layout=Layout(height='auto', width='100%'), width=960)"
      ]
     },
     "metadata": {},
     "output_type": "display_data"
    }
   ],
   "source": [
    "# plotting the sampled barycenters\n",
    "\n",
    "x_stb = bunny_bary[:,0]#.cpu().detach().numpy()\n",
    "\n",
    "y_stb = bunny_bary[:,1]#.cpu().detach().numpy()\n",
    "\n",
    "z_stb = bunny_bary[:,2]#.cpu().detach().numpy()\n",
    "\n",
    "\n",
    "\n",
    "plot_points = [x_stb,y_stb,z_stb]\n",
    "Points(plot_points).show(axes=1)"
   ]
  },
  {
   "cell_type": "code",
   "execution_count": 66,
   "id": "493dc508",
   "metadata": {},
   "outputs": [],
   "source": [
    "torch.save( bunny_bary, '/media/chethan/New Volume/Thesis/circle_torus_autoencoder_experiments/min3d1737ptsBunny.pt')"
   ]
  },
  {
   "cell_type": "code",
   "execution_count": 43,
   "id": "02b4331c",
   "metadata": {},
   "outputs": [
    {
     "data": {
      "application/vnd.jupyter.widget-view+json": {
       "model_id": "0a204de5ba23465abb366480be30b76d",
       "version_major": 2,
       "version_minor": 0
      },
      "text/plain": [
       "ViewInteractiveWidget(height=960, layout=Layout(height='auto', width='100%'), width=960)"
      ]
     },
     "metadata": {},
     "output_type": "display_data"
    }
   ],
   "source": [
    "# plotting the sampled barycenters\n",
    "\n",
    "x_stb = rand_sampled_bunny[:,0]#.cpu().detach().numpy()\n",
    "\n",
    "y_stb = rand_sampled_bunny[:,1]#.cpu().detach().numpy()\n",
    "\n",
    "z_stb = rand_sampled_bunny[:,2]#.cpu().detach().numpy()\n",
    "\n",
    "\n",
    "\n",
    "plot_points = [x_stb,y_stb,z_stb]\n",
    "Points(plot_points).show(axes=1)"
   ]
  },
  {
   "cell_type": "code",
   "execution_count": null,
   "id": "036374ff",
   "metadata": {},
   "outputs": [],
   "source": []
  },
  {
   "cell_type": "markdown",
   "id": "77d5ecad",
   "metadata": {},
   "source": [
    "# Trajectory of barycenter smpling\n"
   ]
  },
  {
   "cell_type": "code",
   "execution_count": 24,
   "id": "585ebf38",
   "metadata": {},
   "outputs": [
    {
     "data": {
      "image/png": "[encoded data removed]",
      "text/plain": [
       "<Figure size 432x288 with 1 Axes>"
      ]
     },
     "metadata": {
      "needs_background": "light"
     },
     "output_type": "display_data"
    }
   ],
   "source": [
    "\n",
    "fig = matplotlib.pyplot.figure()\n",
    "ax  = fig.add_subplot(111, projection = '3d')\n",
    "\n",
    "X = torus_bary[:,0]\n",
    "Y = torus_bary[:,1]\n",
    "Z = torus_bary[:,2]\n",
    "ax.plot(X, Y, Z, color = 'b')\n",
    "plt.show()"
   ]
  },
  {
   "cell_type": "markdown",
   "id": "ad2d9e01",
   "metadata": {},
   "source": [
    "# Persistent homology of sampled barycenters"
   ]
  },
  {
   "cell_type": "code",
   "execution_count": 44,
   "id": "c6155657",
   "metadata": {},
   "outputs": [],
   "source": [
    "import matplotlib\n",
    "matplotlib.rcdefaults()\n",
    "from persim import plot_diagrams"
   ]
  },
  {
   "cell_type": "code",
   "execution_count": 45,
   "id": "6678e95b",
   "metadata": {},
   "outputs": [
    {
     "name": "stderr",
     "output_type": "stream",
     "text": [
      "/tmp/ipykernel_42169/1703124144.py:3: UserWarning: To copy construct from a tensor, it is recommended to use sourceTensor.clone().detach() or sourceTensor.clone().detach().requires_grad_(True), rather than torch.tensor(sourceTensor).\n",
      "  point_cloud = torch.tensor(point_cloud)\n"
     ]
    },
    {
     "data": {
      "image/png": "[encoded data removed]",
      "text/plain": [
       "<Figure size 640x480 with 1 Axes>"
      ]
     },
     "metadata": {},
     "output_type": "display_data"
    }
   ],
   "source": [
    "torus_PH_arrays,PH_diagram_barycenters_torus = get_persistence_diagram(bunny_bary,2)"
   ]
  },
  {
   "cell_type": "code",
   "execution_count": 59,
   "id": "34293f5c",
   "metadata": {},
   "outputs": [],
   "source": [
    "PH_diagram_barycenters_torus"
   ]
  },
  {
   "cell_type": "code",
   "execution_count": 46,
   "id": "5a5660e9",
   "metadata": {},
   "outputs": [
    {
     "data": {
      "image/png": "[encoded data removed]",
      "text/plain": [
       "<Figure size 640x480 with 1 Axes>"
      ]
     },
     "metadata": {},
     "output_type": "display_data"
    }
   ],
   "source": [
    "torus_PH_arrays,PH_diagram_barycenters_torus = get_persistence_diagram(rand_sampled_bunny,2)"
   ]
  },
  {
   "cell_type": "code",
   "execution_count": null,
   "id": "682ecaf9",
   "metadata": {},
   "outputs": [],
   "source": []
  },
  {
   "cell_type": "markdown",
   "id": "ae7d8dbf",
   "metadata": {},
   "source": [
    "# Persistent homology of original points"
   ]
  },
  {
   "cell_type": "code",
   "execution_count": null,
   "id": "04b70f3f",
   "metadata": {},
   "outputs": [],
   "source": [
    "#torus_PH_arrays_ori,PH_diagram_ori_torus = get_persistence_diagram(point_data_torus,2)"
   ]
  },
  {
   "cell_type": "markdown",
   "id": "2af45850",
   "metadata": {},
   "source": [
    "# observation"
   ]
  },
  {
   "cell_type": "markdown",
   "id": "a82fe303",
   "metadata": {},
   "source": [
    "The persistent homology signatures are very similar but the sacles at which births and deaths occur are different. The birth and death values in PH of barycenters are higher than their counterparts in original points cloud. The same has to be eperimented on image datasets"
   ]
  },
  {
   "cell_type": "code",
   "execution_count": null,
   "id": "ac5da505",
   "metadata": {},
   "outputs": [],
   "source": []
  },
  {
   "cell_type": "markdown",
   "id": "f0306be6",
   "metadata": {},
   "source": [
    "# Sphere"
   ]
  },
  {
   "cell_type": "code",
   "execution_count": 15,
   "id": "aefd3fe5",
   "metadata": {},
   "outputs": [],
   "source": [
    "expr = x**2 + y**2 + z**2 - 1\n",
    "poly = sp.Poly(expr, x, y, z)"
   ]
  },
  {
   "cell_type": "code",
   "execution_count": 16,
   "id": "a7dd84d6",
   "metadata": {},
   "outputs": [
    {
     "data": {
      "text/latex": [
       "$\\displaystyle x^{2} + y^{2} + z^{2} - 1$"
      ],
      "text/plain": [
       "x**2 + y**2 + z**2 - 1"
      ]
     },
     "execution_count": 16,
     "metadata": {},
     "output_type": "execute_result"
    }
   ],
   "source": [
    "expr"
   ]
  },
  {
   "cell_type": "code",
   "execution_count": 17,
   "id": "f7f0969e",
   "metadata": {},
   "outputs": [],
   "source": [
    "    # convert sympy polynomial to minyterpy polynomial\n",
    "newt_poly = sympy_to_mp(poly, mp.NewtonPolynomial)"
   ]
  },
  {
   "cell_type": "code",
   "execution_count": 18,
   "id": "e45bb372",
   "metadata": {},
   "outputs": [],
   "source": [
    "#sample points\n",
    "point_data = sample_points_on_poly(10000,        # Number of points to be sampled\n",
    "                                   newt_poly,  # Polynomial in Newton basis\n",
    "                                   bounds=1, # Boundary of the Cubic domain to be sampled\n",
    "                                   tol=1e-15)  # Tolerance in solution"
   ]
  },
  {
   "cell_type": "code",
   "execution_count": 19,
   "id": "16ee9bb2",
   "metadata": {},
   "outputs": [
    {
     "data": {
      "text/plain": [
       "(10000, 3)"
      ]
     },
     "execution_count": 19,
     "metadata": {},
     "output_type": "execute_result"
    }
   ],
   "source": [
    "point_data.shape"
   ]
  },
  {
   "cell_type": "code",
   "execution_count": 20,
   "id": "f00f36f7",
   "metadata": {},
   "outputs": [
    {
     "data": {
      "application/vnd.jupyter.widget-view+json": {
       "model_id": "48286612b43a4955a90cf250e65dc407",
       "version_major": 2,
       "version_minor": 0
      },
      "text/plain": [
       "ViewInteractiveWidget(height=960, layout=Layout(height='auto', width='100%'), width=960)"
      ]
     },
     "metadata": {},
     "output_type": "display_data"
    }
   ],
   "source": [
    "\n",
    "x_so = point_data[:,0]\n",
    "\n",
    "y_so = point_data[:,1]\n",
    "\n",
    "z_so = point_data[:,2]\n",
    "\n",
    "\n",
    "plot_points = [x_so,y_so,z_so]\n",
    "Points(plot_points).show(axes=1)"
   ]
  },
  {
   "cell_type": "code",
   "execution_count": 24,
   "id": "a61be9b3",
   "metadata": {},
   "outputs": [],
   "source": [
    "sphere_bary = get_convergent_barycenters(point_data, point_data[0], 0.25)"
   ]
  },
  {
   "cell_type": "code",
   "execution_count": 25,
   "id": "7e2d5dcb",
   "metadata": {},
   "outputs": [
    {
     "data": {
      "text/plain": [
       "torch.Size([120, 3])"
      ]
     },
     "execution_count": 25,
     "metadata": {},
     "output_type": "execute_result"
    }
   ],
   "source": [
    "sphere_bary.shape"
   ]
  },
  {
   "cell_type": "markdown",
   "id": "9511950e",
   "metadata": {},
   "source": [
    "# Plotting sphere barycenters"
   ]
  },
  {
   "cell_type": "code",
   "execution_count": 34,
   "id": "4012a544",
   "metadata": {},
   "outputs": [
    {
     "data": {
      "application/vnd.jupyter.widget-view+json": {
       "model_id": "289c33e3322a4e8381b227869bfaf793",
       "version_major": 2,
       "version_minor": 0
      },
      "text/plain": [
       "ViewInteractiveWidget(height=960, layout=Layout(height='auto', width='100%'), width=960)"
      ]
     },
     "metadata": {},
     "output_type": "display_data"
    }
   ],
   "source": [
    "\n",
    "x_spb = sphere_bary[:,0]\n",
    "\n",
    "y_spb = sphere_bary[:,1]\n",
    "\n",
    "z_spb = sphere_bary[:,2]\n",
    "\n",
    "\n",
    "plot_points = [x_spb,y_spb,z_spb]\n",
    "Points(plot_points).show(axes=1)"
   ]
  },
  {
   "cell_type": "code",
   "execution_count": 20,
   "id": "14d96094",
   "metadata": {},
   "outputs": [
    {
     "name": "stderr",
     "output_type": "stream",
     "text": [
      "/tmp/ipykernel_11341/1703124144.py:3: UserWarning: To copy construct from a tensor, it is recommended to use sourceTensor.clone().detach() or sourceTensor.clone().detach().requires_grad_(True), rather than torch.tensor(sourceTensor).\n",
      "  point_cloud = torch.tensor(point_cloud)\n"
     ]
    },
    {
     "data": {
      "image/png": "[encoded data removed]",
      "text/plain": [
       "<Figure size 640x480 with 1 Axes>"
      ]
     },
     "metadata": {},
     "output_type": "display_data"
    }
   ],
   "source": [
    "sphere_PH_arrays,PH_diagram_barycenters_sphere = get_persistence_diagram(sphere_bary,3)"
   ]
  },
  {
   "cell_type": "code",
   "execution_count": null,
   "id": "4c3c84e2",
   "metadata": {},
   "outputs": [],
   "source": []
  },
  {
   "cell_type": "code",
   "execution_count": null,
   "id": "d6d2a791",
   "metadata": {},
   "outputs": [],
   "source": []
  },
  {
   "cell_type": "code",
   "execution_count": null,
   "id": "d114b486",
   "metadata": {},
   "outputs": [],
   "source": []
  },
  {
   "cell_type": "markdown",
   "id": "c9922596",
   "metadata": {},
   "source": [
    "# Trajectory of barycenter smpling on sphere\n"
   ]
  },
  {
   "cell_type": "code",
   "execution_count": null,
   "id": "39076367",
   "metadata": {},
   "outputs": [],
   "source": [
    "\n",
    "fig = matplotlib.pyplot.figure()\n",
    "ax  = fig.add_subplot(111, projection = '3d')\n",
    "\n",
    "X = sphere_bary[:,0]\n",
    "Y = sphere_bary[:,1]\n",
    "Z = sphere_bary[:,2]\n",
    "ax.plot(X, Y, Z, color = 'b')\n",
    "plt.show()"
   ]
  },
  {
   "cell_type": "code",
   "execution_count": null,
   "id": "ad21ac51",
   "metadata": {},
   "outputs": [],
   "source": [
    "#original point cloud sphere persistence diagram\n",
    "\n",
    "PH_diagram_spheres = get_persistence_diagram(point_data,2)"
   ]
  },
  {
   "cell_type": "code",
   "execution_count": null,
   "id": "31ea7e75",
   "metadata": {},
   "outputs": [],
   "source": [
    "# barycentyers of sphere persistence diagram\n",
    "\n",
    "\n",
    "PH_diagram_barycenters_sphere = get_persistence_diagram(sphere_bary, 2)"
   ]
  },
  {
   "cell_type": "markdown",
   "id": "68f4d632",
   "metadata": {},
   "source": [
    "# 4 D sphere"
   ]
  },
  {
   "cell_type": "code",
   "execution_count": null,
   "id": "61923ced",
   "metadata": {},
   "outputs": [],
   "source": [
    "expr = w**2 + x**2 + y**2 + z**2 - 1\n",
    "poly = sp.Poly(expr,w, x, y, z)"
   ]
  },
  {
   "cell_type": "code",
   "execution_count": null,
   "id": "e3b49b5d",
   "metadata": {},
   "outputs": [],
   "source": []
  }
 ],
 "metadata": {
  "kernelspec": {
   "display_name": "Python 3.9.5 64-bit",
   "language": "python",
   "name": "python3"
  },
  "language_info": {
   "codemirror_mode": {
    "name": "ipython",
    "version": 3
   },
   "file_extension": ".py",
   "mimetype": "text/x-python",
   "name": "python",
   "nbconvert_exporter": "python",
   "pygments_lexer": "ipython3",
   "version": "3.9.5"
  },
  "vscode": {
   "interpreter": {
    "hash": "916dbcbb3f70747c44a77c7bcd40155683ae19c65e1c03b4aa3499c5328201f1"
   }
  }
 },
 "nbformat": 4,
 "nbformat_minor": 5
}
