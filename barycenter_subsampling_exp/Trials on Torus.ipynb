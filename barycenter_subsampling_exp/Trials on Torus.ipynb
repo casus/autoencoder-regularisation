{
 "cells": [
  {
   "cell_type": "code",
   "execution_count": 1,
   "id": "3393ac2b",
   "metadata": {},
   "outputs": [],
   "source": [
    "import sympy as sp\n",
    "import minterpy as mp\n",
    "import numpy as np\n",
    "from minterpy.pointcloud_utils import *\n",
    "\n",
    "from mpl_toolkits import mplot3d\n",
    "%matplotlib inline\n",
    "\n",
    "from mpl_toolkits.mplot3d import axes3d\n",
    "\n",
    "import torch\n",
    "import torchvision\n",
    "from torchvision import transforms, datasets\n",
    "\n",
    "import random\n",
    "import numpy as np\n",
    "import matplotlib.pyplot as plt\n",
    "\n",
    "import os\n",
    "from operator import itemgetter\n",
    "\n",
    "device = torch.device('cuda' if torch.cuda.is_available() else 'cpu')\n",
    "\n",
    "import ot\n",
    "\n",
    "from sklearn.neighbors import NearestNeighbors\n",
    "\n",
    "import ripser\n",
    "import persim\n",
    "from persim import plot_diagrams\n",
    "\n",
    "from operator import itemgetter\n",
    "\n",
    "\n",
    "#do pip installs as follows to use vedo for plotting point clouds\n",
    "#pip install vedo\n",
    "#pip install ipyvtklink\n",
    "\n",
    "import numpy as np\n",
    "from vedo import *\n",
    "\n",
    "import matplotlib.pyplot\n",
    "from mpl_toolkits.mplot3d import Axes3D"
   ]
  },
  {
   "cell_type": "code",
   "execution_count": 2,
   "id": "2f91a318",
   "metadata": {},
   "outputs": [],
   "source": [
    "def give_centeroid(arr):\n",
    "    length = arr.shape[0]\n",
    "    sum_x = np.sum(arr[:, 0])\n",
    "    sum_y = np.sum(arr[:, 1])\n",
    "    sum_z = np.sum(arr[:, 2])\n",
    "    return np.array([[sum_x/length, sum_y/length, sum_z/length]])"
   ]
  },
  {
   "cell_type": "code",
   "execution_count": 3,
   "id": "5552f103",
   "metadata": {},
   "outputs": [],
   "source": [
    "def give_next_neighbours_barycenter_indices(batch_x, input_barycenter, remaining_indices, no_of_barycenetrs_required):\n",
    "    \n",
    "\n",
    "  num_neighbours = int(batch_x.shape[0] / no_of_barycenetrs_required)\n",
    "    \n",
    "  wasserDistance = []\n",
    "  distance_cum_index = np.array([])\n",
    "\n",
    "  for j in remaining_indices:\n",
    "    \n",
    "    wassDistance = dist = np.linalg.norm(batch_x[j]-input_barycenter)\n",
    "\n",
    "    \n",
    "    distance_cum_index = np.concatenate((distance_cum_index, np.array([wassDistance, j])), axis = 0)\n",
    "   \n",
    "  distance_cum_index = distance_cum_index.reshape(int(distance_cum_index.shape[0]/2), 2)\n",
    "  distance_cum_index = sorted(distance_cum_index, key=itemgetter(0))\n",
    "  \n",
    "  distance_cum_index = np.array(distance_cum_index)\n",
    "  \n",
    "  remaining_indices = distance_cum_index[:,1]\n",
    "\n",
    "  remaining_indices = remaining_indices.astype(int)\n",
    "  \n",
    "    \n",
    "  A = np.array([])\n",
    "  for i in range(num_neighbours):\n",
    "    if(i >= distance_cum_index[:,1].shape[0]):\n",
    "        break\n",
    "    A = np.concatenate((A, batch_x[int(distance_cum_index[:,1][i])]), axis = 0 )\n",
    "  \n",
    "  A = A.reshape(int(A.shape[0]/3) , 3)\n",
    "  \n",
    "  #print(\"The shape of A is \")\n",
    "  #print(A.shape)\n",
    "  next_barycenter = give_centeroid(A) \n",
    "  \n",
    "  next_barycenter = np.array(next_barycenter)\n",
    "  #print(next_barycenter.shape)\n",
    "  next_barycenter = next_barycenter.reshape(next_barycenter.shape[0]* next_barycenter.shape[1])\n",
    "  #print(next_barycenter.shape)  \n",
    "  return A, next_barycenter, remaining_indices\n"
   ]
  },
  {
   "cell_type": "code",
   "execution_count": 4,
   "id": "5cf123a7",
   "metadata": {},
   "outputs": [],
   "source": [
    "def get_convergent_barycenters(point_cloud, no_of_barycenetrs_required, initial_pt):   \n",
    "    \n",
    "    no_neighbours = int(point_cloud.shape[0] / no_of_barycenetrs_required)\n",
    "    \n",
    "    #num_neighbours = int(batch_x.shape[0] / no_of_barycenetrs_required)\n",
    "\n",
    "    \n",
    "    bary = initial_pt\n",
    "    rem_indices = np.array(range(0,point_cloud.shape[0]))\n",
    "    #print(\"Size of batch : \", point_cloud.shape[0])\n",
    "    sampled_barycenters = np.array([])\n",
    "    sampled_barycenters = torch.tensor(sampled_barycenters)\n",
    "    covered_indices = np.array([])\n",
    "\n",
    "    for i in range(int(point_cloud.shape[0])):\n",
    "\n",
    "        if(len(rem_indices) < 2):\n",
    "            #print(\"END\")\n",
    "            break\n",
    "\n",
    "        #print(\"Iteration number : \", i+1)\n",
    "        #print(\"Input barycenter : \")\n",
    "\n",
    "\n",
    "        old_bary = bary\n",
    "\n",
    "\n",
    "\n",
    "        neighbours, bary, rem_indices = give_next_neighbours_barycenter_indices(point_cloud, bary, rem_indices, no_neighbours)\n",
    "\n",
    "\n",
    "        wassDistance = np.linalg.norm(old_bary - bary)  \n",
    "\n",
    "        covered_indices = np.concatenate((covered_indices, rem_indices[:4] ) ,axis = 0)\n",
    "\n",
    "\n",
    "        #print(\"Tracking distance between new barycenter and previous barycenter : \",wassDistance )\n",
    "        if(wassDistance == 0.0):\n",
    "\n",
    "            unique_covered_indices = np.unique(covered_indices, axis=0)\n",
    "            sampled_barycenters = torch.cat((sampled_barycenters, torch.tensor(bary)), 0)\n",
    "\n",
    "            s1 = set(rem_indices)\n",
    "            s2 = set(unique_covered_indices)\n",
    "            rem_set = s1 - s2\n",
    "            rem_inds = list(rem_set)\n",
    "            #rem_indices = rem_set\n",
    "            rem_indices = rem_indices[no_neighbours:]\n",
    "\n",
    "            #print(\"Sampled barycenters are\")\n",
    "            #print(sampled_barycenters)\n",
    "    sampled_barycenters = sampled_barycenters.reshape(int((sampled_barycenters.shape[0]/3)),3)\n",
    "    \n",
    "    return sampled_barycenters"
   ]
  },
  {
   "cell_type": "code",
   "execution_count": 5,
   "id": "57e012fa",
   "metadata": {},
   "outputs": [],
   "source": [
    "def _compute_distance_matrix(x, p=2):\n",
    "    x_flat = x.view(x.size(0), -1)\n",
    "\n",
    "    distances = torch.norm(x_flat[:, None] - x_flat, dim=2, p=p)\n",
    "\n",
    "    return distances"
   ]
  },
  {
   "cell_type": "code",
   "execution_count": 6,
   "id": "3fe83d55",
   "metadata": {},
   "outputs": [],
   "source": [
    "def get_persistence_diagram(point_cloud, maximum_dim):\n",
    "\n",
    "    point_cloud = torch.tensor(point_cloud)\n",
    "\n",
    "    dist_matrix = _compute_distance_matrix(point_cloud, p=2)\n",
    "    diagrams = ripser.ripser(dist_matrix.cpu().detach().numpy(), distance_matrix=True, maxdim=maximum_dim)['dgms']\n",
    "    return diagrams, plot_diagrams(diagrams, show=True)\n"
   ]
  },
  {
   "cell_type": "code",
   "execution_count": null,
   "id": "a64f798d",
   "metadata": {},
   "outputs": [],
   "source": []
  },
  {
   "cell_type": "code",
   "execution_count": 7,
   "id": "3a21673d",
   "metadata": {},
   "outputs": [],
   "source": [
    "x, y, z = sp.symbols('x y z')\n"
   ]
  },
  {
   "cell_type": "code",
   "execution_count": 8,
   "id": "1e9d12da",
   "metadata": {},
   "outputs": [],
   "source": [
    "## Torus\n",
    "R = 1.5\n",
    "r = 0.7\n",
    "expr_torus = (x**2 + y**2 + z**2 + R**2 - r**2)**2 - 4*R**2*(x**2 + y**2)\n"
   ]
  },
  {
   "cell_type": "code",
   "execution_count": 9,
   "id": "c5d324d1",
   "metadata": {},
   "outputs": [
    {
     "data": {
      "text/latex": [
       "$\\displaystyle - 9.0 x^{2} - 9.0 y^{2} + 3.0976 \\left(0.568181818181818 x^{2} + 0.568181818181818 y^{2} + 0.568181818181818 z^{2} + 1\\right)^{2}$"
      ],
      "text/plain": [
       "-9.0*x**2 - 9.0*y**2 + 3.0976*(0.568181818181818*x**2 + 0.568181818181818*y**2 + 0.568181818181818*z**2 + 1)**2"
      ]
     },
     "execution_count": 9,
     "metadata": {},
     "output_type": "execute_result"
    }
   ],
   "source": [
    "expr_torus"
   ]
  },
  {
   "cell_type": "code",
   "execution_count": 10,
   "id": "25c74e92",
   "metadata": {},
   "outputs": [],
   "source": [
    "poly_torus = sp.Poly(expr_torus, x, y, z)"
   ]
  },
  {
   "cell_type": "code",
   "execution_count": 11,
   "id": "6b7aa5e1",
   "metadata": {},
   "outputs": [
    {
     "data": {
      "text/latex": [
       "$\\displaystyle 1.0 x^{4} + 2.0 x^{2} y^{2} + 2.0 x^{2} z^{2} - 5.48 x^{2} + 1.0 y^{4} + 2.0 y^{2} z^{2} - 5.48 y^{2} + 1.0 z^{4} + 3.52 z^{2} + 3.0976$"
      ],
      "text/plain": [
       "1.0*x**4 + 2.0*x**2*y**2 + 2.0*x**2*z**2 - 5.48*x**2 + 1.0*y**4 + 2.0*y**2*z**2 - 5.48*y**2 + 1.0*z**4 + 3.52*z**2 + 3.0976"
      ]
     },
     "execution_count": 11,
     "metadata": {},
     "output_type": "execute_result"
    }
   ],
   "source": [
    "sp.expand(expr_torus)"
   ]
  },
  {
   "cell_type": "code",
   "execution_count": 12,
   "id": "f6bdaa49",
   "metadata": {},
   "outputs": [],
   "source": [
    "#Convert sympy polynomial to minterpy polynomial\n",
    "\n",
    "newt_poly_torus = sympy_to_mp(poly_torus, mp.NewtonPolynomial)"
   ]
  },
  {
   "cell_type": "code",
   "execution_count": 13,
   "id": "88bd9004",
   "metadata": {},
   "outputs": [],
   "source": [
    "#Sample points on the zero isocontour\n",
    "def points_on_torus(num_points):\n",
    "    \n",
    "    point_data_torus = sample_points_on_poly(num_points,        # Number of points to be sampled\n",
    "                                       newt_poly_torus,  # Polynomial in Newton basis\n",
    "                                       bounds=3.0, # Boundary of the Cubic domain to be sampled\n",
    "                                       tol=1e-15)  # Tolerance in solution\n",
    "    \n",
    "    return point_data_torus"
   ]
  },
  {
   "cell_type": "markdown",
   "id": "f0f3821e",
   "metadata": {},
   "source": [
    "# 1. Sampling 1000 barycenters from 10000 points"
   ]
  },
  {
   "cell_type": "code",
   "execution_count": 14,
   "id": "9dbde5db",
   "metadata": {},
   "outputs": [],
   "source": [
    "points_1 = points_on_torus(10000)"
   ]
  },
  {
   "cell_type": "code",
   "execution_count": 15,
   "id": "df52a62d",
   "metadata": {},
   "outputs": [
    {
     "data": {
      "text/plain": [
       "(10000, 3)"
      ]
     },
     "execution_count": 15,
     "metadata": {},
     "output_type": "execute_result"
    }
   ],
   "source": [
    "points_1.shape"
   ]
  },
  {
   "cell_type": "code",
   "execution_count": 16,
   "id": "f2b39496",
   "metadata": {},
   "outputs": [
    {
     "data": {
      "application/vnd.jupyter.widget-view+json": {
       "model_id": "a55bd2a4b82146a2b87100d6d8b58e3d",
       "version_major": 2,
       "version_minor": 0
      },
      "text/plain": [
       "ViewInteractiveWidget(height=960, layout=Layout(height='auto', width='100%'), width=960)"
      ]
     },
     "metadata": {},
     "output_type": "display_data"
    }
   ],
   "source": [
    "x_t = points_1[:,0]\n",
    "y_t = points_1[:,1]\n",
    "z_t = points_1[:,2]\n",
    "\n",
    "\n",
    "plot_points = [x_t,y_t,z_t]\n",
    "Points(plot_points).show(axes=1)"
   ]
  },
  {
   "cell_type": "code",
   "execution_count": 17,
   "id": "2398c29f",
   "metadata": {},
   "outputs": [],
   "source": [
    "torus_bary_1 = get_convergent_barycenters(points_1, 1000, points_1[0])"
   ]
  },
  {
   "cell_type": "code",
   "execution_count": 18,
   "id": "19d408ec",
   "metadata": {},
   "outputs": [
    {
     "data": {
      "text/plain": [
       "torch.Size([1000, 3])"
      ]
     },
     "execution_count": 18,
     "metadata": {},
     "output_type": "execute_result"
    }
   ],
   "source": [
    "torus_bary_1.shape"
   ]
  },
  {
   "cell_type": "code",
   "execution_count": 19,
   "id": "67cbcdf0",
   "metadata": {
    "scrolled": false
   },
   "outputs": [
    {
     "data": {
      "application/vnd.jupyter.widget-view+json": {
       "model_id": "82982b462ddc446c98dcab8939efdb6f",
       "version_major": 2,
       "version_minor": 0
      },
      "text/plain": [
       "ViewInteractiveWidget(height=960, layout=Layout(height='auto', width='100%'), width=960)"
      ]
     },
     "metadata": {},
     "output_type": "display_data"
    }
   ],
   "source": [
    "# plotting the sampled barycenters\n",
    "\n",
    "x_stb = torus_bary_1[:,0]#.cpu().detach().numpy()\n",
    "\n",
    "y_stb = torus_bary_1[:,1]#.cpu().detach().numpy()\n",
    "\n",
    "z_stb = torus_bary_1[:,2]#.cpu().detach().numpy()\n",
    "\n",
    "\n",
    "\n",
    "plot_points = [x_stb,y_stb,z_stb]\n",
    "Points(plot_points).show(axes=1)"
   ]
  },
  {
   "cell_type": "code",
   "execution_count": null,
   "id": "50e348ae",
   "metadata": {},
   "outputs": [],
   "source": []
  },
  {
   "cell_type": "markdown",
   "id": "840085ad",
   "metadata": {},
   "source": [
    "# 2. Sampling 100 barycenters from 10000 points"
   ]
  },
  {
   "cell_type": "code",
   "execution_count": 20,
   "id": "68c35e62",
   "metadata": {},
   "outputs": [],
   "source": [
    "points_2 = points_on_torus(10000)"
   ]
  },
  {
   "cell_type": "code",
   "execution_count": 21,
   "id": "4e2667df",
   "metadata": {},
   "outputs": [],
   "source": [
    "torus_bary_2 = get_convergent_barycenters(points_2, 100, points_2[0])"
   ]
  },
  {
   "cell_type": "code",
   "execution_count": 22,
   "id": "665d86b0",
   "metadata": {},
   "outputs": [
    {
     "data": {
      "application/vnd.jupyter.widget-view+json": {
       "model_id": "d3160f5738554413bd9965c4e9c8af56",
       "version_major": 2,
       "version_minor": 0
      },
      "text/plain": [
       "ViewInteractiveWidget(height=960, layout=Layout(height='auto', width='100%'), width=960)"
      ]
     },
     "metadata": {},
     "output_type": "display_data"
    }
   ],
   "source": [
    "# plotting the sampled barycenters\n",
    "\n",
    "x_stb = torus_bary_2[:,0]#.cpu().detach().numpy()\n",
    "\n",
    "y_stb = torus_bary_2[:,1]#.cpu().detach().numpy()\n",
    "\n",
    "\n",
    "z_stb = torus_bary_2[:,2]#.cpu().detach().numpy()\n",
    "\n",
    "\n",
    "\n",
    "plot_points = [x_stb,y_stb,z_stb]\n",
    "Points(plot_points).show(axes=1)"
   ]
  },
  {
   "cell_type": "code",
   "execution_count": null,
   "id": "dc57c847",
   "metadata": {},
   "outputs": [],
   "source": []
  },
  {
   "cell_type": "markdown",
   "id": "da8fe3b4",
   "metadata": {},
   "source": [
    "# 3. Sampling 100 barycenters from 1000 points"
   ]
  },
  {
   "cell_type": "code",
   "execution_count": 23,
   "id": "b0e1f47b",
   "metadata": {},
   "outputs": [],
   "source": [
    "points_3 = points_on_torus(1000)"
   ]
  },
  {
   "cell_type": "code",
   "execution_count": 24,
   "id": "23b22c66",
   "metadata": {},
   "outputs": [],
   "source": [
    "torus_bary_3 = get_convergent_barycenters(points_3, 100, points_3[0])"
   ]
  },
  {
   "cell_type": "code",
   "execution_count": 25,
   "id": "e4b16991",
   "metadata": {},
   "outputs": [
    {
     "data": {
      "application/vnd.jupyter.widget-view+json": {
       "model_id": "ad254442284a481ab4e96e334b93c51a",
       "version_major": 2,
       "version_minor": 0
      },
      "text/plain": [
       "ViewInteractiveWidget(height=960, layout=Layout(height='auto', width='100%'), width=960)"
      ]
     },
     "metadata": {},
     "output_type": "display_data"
    }
   ],
   "source": [
    "# plotting the sampled barycenters\n",
    "\n",
    "x_stb = torus_bary_3[:,0]#.cpu().detach().numpy()\n",
    "\n",
    "y_stb = torus_bary_3[:,1]#.cpu().detach().numpy()\n",
    "\n",
    "z_stb = torus_bary_3[:,2]#.cpu().detach().numpy()\n",
    "\n",
    "\n",
    "\n",
    "plot_points = [x_stb,y_stb,z_stb]\n",
    "Points(plot_points).show(axes=1)"
   ]
  },
  {
   "cell_type": "markdown",
   "id": "097932c0",
   "metadata": {},
   "source": [
    "# 4. Sampling 500 barycenters from 5000 points"
   ]
  },
  {
   "cell_type": "code",
   "execution_count": 26,
   "id": "74b09c25",
   "metadata": {},
   "outputs": [],
   "source": [
    "points_4 = points_on_torus(5000)"
   ]
  },
  {
   "cell_type": "code",
   "execution_count": 27,
   "id": "b137629c",
   "metadata": {},
   "outputs": [],
   "source": [
    "torus_bary_4 = get_convergent_barycenters(points_4, 500, points_4[0])"
   ]
  },
  {
   "cell_type": "code",
   "execution_count": 28,
   "id": "e6001341",
   "metadata": {},
   "outputs": [
    {
     "data": {
      "application/vnd.jupyter.widget-view+json": {
       "model_id": "eec64c4ac9144ed5ad536b8f5d377c35",
       "version_major": 2,
       "version_minor": 0
      },
      "text/plain": [
       "ViewInteractiveWidget(height=960, layout=Layout(height='auto', width='100%'), width=960)"
      ]
     },
     "metadata": {},
     "output_type": "display_data"
    }
   ],
   "source": [
    "# plotting the sampled barycenters\n",
    "\n",
    "x_stb = torus_bary_4[:,0]#.cpu().detach().numpy()\n",
    "\n",
    "y_stb = torus_bary_4[:,1]#.cpu().detach().numpy()\n",
    "\n",
    "z_stb = torus_bary_4[:,2]#.cpu().detach().numpy()\n",
    "\n",
    "\n",
    "\n",
    "plot_points = [x_stb,y_stb,z_stb]\n",
    "Points(plot_points).show(axes=1)"
   ]
  },
  {
   "cell_type": "markdown",
   "id": "b6576924",
   "metadata": {},
   "source": [
    "# 5. Sampling 300 barycenters from 5000 points"
   ]
  },
  {
   "cell_type": "code",
   "execution_count": 29,
   "id": "33239e61",
   "metadata": {},
   "outputs": [],
   "source": [
    "points_5 = points_on_torus(5000)"
   ]
  },
  {
   "cell_type": "code",
   "execution_count": 30,
   "id": "97803930",
   "metadata": {},
   "outputs": [],
   "source": [
    "torus_bary_5 = get_convergent_barycenters(points_5, 300, points_5[0])"
   ]
  },
  {
   "cell_type": "code",
   "execution_count": 31,
   "id": "2563bedd",
   "metadata": {},
   "outputs": [
    {
     "data": {
      "application/vnd.jupyter.widget-view+json": {
       "model_id": "d5b2379579b34730ba7ec37dcaeaa21d",
       "version_major": 2,
       "version_minor": 0
      },
      "text/plain": [
       "ViewInteractiveWidget(height=960, layout=Layout(height='auto', width='100%'), width=960)"
      ]
     },
     "metadata": {},
     "output_type": "display_data"
    }
   ],
   "source": [
    "# plotting the sampled barycenters\n",
    "\n",
    "x_stb = torus_bary_5[:,0]#.cpu().detach().numpy()\n",
    "\n",
    "y_stb = torus_bary_5[:,1]#.cpu().detach().numpy()\n",
    "\n",
    "z_stb = torus_bary_5[:,2]#.cpu().detach().numpy()\n",
    "\n",
    "\n",
    "\n",
    "plot_points = [x_stb,y_stb,z_stb]\n",
    "Points(plot_points).show(axes=1)"
   ]
  },
  {
   "cell_type": "markdown",
   "id": "7fa521ec",
   "metadata": {},
   "source": [
    "# 5. Sampling 300 barycenters from 10000 points"
   ]
  },
  {
   "cell_type": "code",
   "execution_count": 32,
   "id": "d5ecbcd3",
   "metadata": {},
   "outputs": [],
   "source": [
    "points_6 = points_on_torus(10000)"
   ]
  },
  {
   "cell_type": "code",
   "execution_count": 33,
   "id": "f8a71f4d",
   "metadata": {},
   "outputs": [],
   "source": [
    "torus_bary_6 = get_convergent_barycenters(points_6, 300, points_6[0])"
   ]
  },
  {
   "cell_type": "code",
   "execution_count": 34,
   "id": "e6835564",
   "metadata": {},
   "outputs": [
    {
     "data": {
      "application/vnd.jupyter.widget-view+json": {
       "model_id": "620a6c6913f346e99f23030279f80097",
       "version_major": 2,
       "version_minor": 0
      },
      "text/plain": [
       "ViewInteractiveWidget(height=960, layout=Layout(height='auto', width='100%'), width=960)"
      ]
     },
     "metadata": {},
     "output_type": "display_data"
    }
   ],
   "source": [
    "# plotting the sampled barycenters\n",
    "\n",
    "x_stb = torus_bary_6[:,0]#.cpu().detach().numpy()\n",
    "\n",
    "y_stb = torus_bary_6[:,1]#.cpu().detach().numpy()\n",
    "\n",
    "z_stb = torus_bary_6[:,2]#.cpu().detach().numpy()\n",
    "\n",
    "\n",
    "\n",
    "plot_points = [x_stb,y_stb,z_stb]\n",
    "Points(plot_points).show(axes=1)"
   ]
  },
  {
   "cell_type": "code",
   "execution_count": null,
   "id": "e5710685",
   "metadata": {},
   "outputs": [],
   "source": []
  },
  {
   "cell_type": "markdown",
   "id": "ee2c6661",
   "metadata": {},
   "source": [
    "# 5. Sampling 50 barycenters from 1000 points"
   ]
  },
  {
   "cell_type": "code",
   "execution_count": 35,
   "id": "b137de78",
   "metadata": {},
   "outputs": [],
   "source": [
    "points_6 = points_on_torus(1000)"
   ]
  },
  {
   "cell_type": "code",
   "execution_count": 36,
   "id": "7de69b72",
   "metadata": {},
   "outputs": [],
   "source": [
    "torus_bary_6 = get_convergent_barycenters(points_6, 50, points_6[0])"
   ]
  },
  {
   "cell_type": "code",
   "execution_count": 37,
   "id": "571764dc",
   "metadata": {},
   "outputs": [
    {
     "data": {
      "application/vnd.jupyter.widget-view+json": {
       "model_id": "f8ed2dfad98941abbc0d06cb58ff7ebb",
       "version_major": 2,
       "version_minor": 0
      },
      "text/plain": [
       "ViewInteractiveWidget(height=960, layout=Layout(height='auto', width='100%'), width=960)"
      ]
     },
     "metadata": {},
     "output_type": "display_data"
    }
   ],
   "source": [
    "# plotting the sampled barycenters\n",
    "\n",
    "x_stb = torus_bary_6[:,0]#.cpu().detach().numpy()\n",
    "\n",
    "y_stb = torus_bary_6[:,1]#.cpu().detach().numpy()\n",
    "\n",
    "z_stb = torus_bary_6[:,2]#.cpu().detach().numpy()\n",
    "\n",
    "\n",
    "\n",
    "plot_points = [x_stb,y_stb,z_stb]\n",
    "Points(plot_points).show(axes=1)"
   ]
  },
  {
   "cell_type": "code",
   "execution_count": null,
   "id": "a95bcf4e",
   "metadata": {},
   "outputs": [],
   "source": []
  }
 ],
 "metadata": {
  "kernelspec": {
   "display_name": "Python 3 (ipykernel)",
   "language": "python",
   "name": "python3"
  },
  "language_info": {
   "codemirror_mode": {
    "name": "ipython",
    "version": 3
   },
   "file_extension": ".py",
   "mimetype": "text/x-python",
   "name": "python",
   "nbconvert_exporter": "python",
   "pygments_lexer": "ipython3",
   "version": "3.9.7"
  }
 },
 "nbformat": 4,
 "nbformat_minor": 5
}
