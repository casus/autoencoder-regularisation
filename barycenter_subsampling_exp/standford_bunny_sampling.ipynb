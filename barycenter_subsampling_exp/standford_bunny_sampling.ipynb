{
 "cells": [
  {
   "cell_type": "code",
   "execution_count": 1,
   "id": "181717e4",
   "metadata": {},
   "outputs": [],
   "source": [
    "import sympy as sp\n",
    "import minterpy as mp\n",
    "import numpy as np\n",
    "from minterpy.pointcloud_utils import *\n",
    "\n",
    "#from mpl_toolkits import mplot3d\n",
    "%matplotlib inline\n",
    "\n",
    "#from mpl_toolkits.mplot3d import axes3d\n",
    "\n",
    "import torch\n",
    "#import torchvision\n",
    "#from torchvision import transforms, datasets\n",
    "\n",
    "import random\n",
    "import numpy as np\n",
    "#import matplotlib.pyplot as plt\n",
    "\n",
    "#import os\n",
    "#from operator import itemgetter\n",
    "\n",
    "device = torch.device('cuda' if torch.cuda.is_available() else 'cpu')\n",
    "\n",
    "#import ot\n",
    "\n",
    "#from sklearn.neighbors import NearestNeighbors\n",
    "\n",
    "#import ripser\n",
    "#import persim\n",
    "#from persim import plot_diagrams\n",
    "\n",
    "from operator import itemgetter\n",
    "\n",
    "\n",
    "#do pip installs as follows to use vedo for plotting point clouds\n",
    "#pip install vedo\n",
    "#pip install ipyvtklink\n",
    "\n",
    "#import numpy as np\n",
    "from vedo import *\n",
    "\n",
    "#import matplotlib.pyplot\n",
    "#from mpl_toolkits.mplot3d import Axes3D"
   ]
  },
  {
   "cell_type": "code",
   "execution_count": 2,
   "id": "139b288d",
   "metadata": {},
   "outputs": [],
   "source": [
    "def give_centeroid(arr):\n",
    "    length = arr.shape[0]\n",
    "    sum_x = np.sum(arr[:, 0])\n",
    "    sum_y = np.sum(arr[:, 1])\n",
    "    sum_z = np.sum(arr[:, 2])\n",
    "    return np.array([[sum_x/length, sum_y/length, sum_z/length]])"
   ]
  },
  {
   "cell_type": "code",
   "execution_count": 3,
   "id": "90d8e3be",
   "metadata": {},
   "outputs": [],
   "source": [
    "def give_next_neighbours_barycenter_indices(batch_x, input_barycenter, remaining_indices, sweep_radsius):\n",
    "    \n",
    "  #sweep_radsius = 0.2\n",
    "  #num_neighbours = int(batch_x.shape[0] / no_of_barycenetrs_required)\n",
    "    \n",
    "  wasserDistance = []\n",
    "  distance_cum_index = np.array([])\n",
    "\n",
    "  for j in remaining_indices:\n",
    "    \n",
    "    wassDistance = dist = np.linalg.norm(batch_x[j]-input_barycenter)\n",
    "\n",
    "    distance_cum_index = np.concatenate((distance_cum_index, np.array([wassDistance, j])), axis = 0)\n",
    "   \n",
    "  distance_cum_index = distance_cum_index.reshape(int(distance_cum_index.shape[0]/2), 2)\n",
    "  distance_cum_index = sorted(distance_cum_index, key=itemgetter(0))\n",
    "  \n",
    "  distance_cum_index = np.array(distance_cum_index)\n",
    "  \n",
    "  only_distances = distance_cum_index[:,0]\n",
    "  #print(only_distances)\n",
    "  where_is_it = np.where( only_distances < sweep_radsius ) \n",
    "  #print('where_is_it', where_is_it)  \n",
    "  #print('where_is_it[0][-1]', where_is_it[0][-1])\n",
    "  num_neighbours = where_is_it[0][-1] +1\n",
    "  #print('where_is_it[0]', where_is_it[0])\n",
    "  #print('where_is_it[0][-1]', where_is_it[0][-1])\n",
    "  #print('num_neighbours',num_neighbours)\n",
    "  #break\n",
    "  #print('distance_cum_index',distance_cum_index[:,1])\n",
    "  remaining_indices = distance_cum_index[:,1]\n",
    "\n",
    "  remaining_indices = remaining_indices.astype(int)\n",
    "  \n",
    "    \n",
    "  A = np.array([])\n",
    "  for i in range(num_neighbours):\n",
    "    if(i >= distance_cum_index[:,1].shape[0]):\n",
    "        break\n",
    "    A = np.concatenate((A, batch_x[int(distance_cum_index[:,1][i])]), axis = 0 )\n",
    "  \n",
    "  A = A.reshape(int(A.shape[0]/3) , 3)\n",
    "  \n",
    "  #print(\"The shape of A is \")\n",
    "  #print(A.shape)\n",
    "  next_barycenter = give_centeroid(A) \n",
    "  \n",
    "  next_barycenter = np.array(next_barycenter)\n",
    "  #print(next_barycenter.shape)\n",
    "  next_barycenter = next_barycenter.reshape(next_barycenter.shape[0]* next_barycenter.shape[1])\n",
    "  #print(next_barycenter)  \n",
    "  return A, next_barycenter, remaining_indices,num_neighbours\n"
   ]
  },
  {
   "cell_type": "code",
   "execution_count": 4,
   "id": "96a90c0d",
   "metadata": {},
   "outputs": [],
   "source": [
    "def get_convergent_barycenters(point_cloud, initial_pt,sweep_radsius):   \n",
    "    \n",
    "    #no_neighbours = int(point_cloud.shape[0] / no_of_barycenetrs_required)\n",
    "    #initiating no of neighbours\n",
    "    #no_neighbours = 5\n",
    "    \n",
    "    #num_neighbours = int(batch_x.shape[0] / no_of_barycenetrs_required)\n",
    "\n",
    "    \n",
    "    bary = initial_pt\n",
    "    rem_indices = np.array(range(0,point_cloud.shape[0]))\n",
    "    #print(rem_indices)\n",
    "    #print(\"Size of batch : \", point_cloud.shape[0])\n",
    "    sampled_barycenters = np.array([])\n",
    "    sampled_barycenters = torch.tensor(sampled_barycenters)\n",
    "    covered_indices = np.array([])\n",
    "\n",
    "    for i in range(int(point_cloud.shape[0])):\n",
    "\n",
    "        if(len(rem_indices) == 2):\n",
    "            #print(\"END\")\n",
    "            break\n",
    "\n",
    "        #print(\"Iteration number : \", i+1)\n",
    "        #print(\"Input barycenter : \")\n",
    "\n",
    "\n",
    "        old_bary = bary\n",
    "\n",
    "\n",
    "        #print('rem_indices before', rem_indices)\n",
    "        neighbours, bary, rem_indices, no_neighbours = give_next_neighbours_barycenter_indices(point_cloud, bary, rem_indices, sweep_radsius)\n",
    "        #print('no_neighbours', no_neighbours)\n",
    "        #break\n",
    "        wassDistance = np.linalg.norm(old_bary - bary)  \n",
    "\n",
    "        covered_indices = np.concatenate((covered_indices, rem_indices[:4] ) ,axis = 0)\n",
    "\n",
    "\n",
    "        #print(\"Tracking distance between new barycenter and previous barycenter : \",wassDistance )\n",
    "        if(wassDistance < 0.000001):\n",
    "\n",
    "            unique_covered_indices = np.unique(covered_indices, axis=0)\n",
    "            sampled_barycenters = torch.cat((sampled_barycenters, torch.tensor(bary)), 0)\n",
    "\n",
    "            s1 = set(rem_indices)\n",
    "            s2 = set(unique_covered_indices)\n",
    "            rem_set = s1 - s2\n",
    "            rem_inds = list(rem_set)\n",
    "            #rem_indices = rem_set\n",
    "            rem_indices = rem_indices[no_neighbours:]\n",
    "\n",
    "            #print(\"Sampled barycenters are\")\n",
    "            #print(sampled_barycenters)\n",
    "            #no_neighbours = 5\n",
    "            #print('rem_indices',rem_indices)\n",
    "            #print(\"len(rem_indices)\",len(rem_indices))\n",
    "            if(len(rem_indices) ==0):\n",
    "                break\n",
    "            bary = point_cloud[rem_indices[0]]\n",
    "    sampled_barycenters = sampled_barycenters.reshape(int((sampled_barycenters.shape[0]/3)),3)\n",
    "    \n",
    "    return sampled_barycenters"
   ]
  },
  {
   "cell_type": "code",
   "execution_count": 5,
   "id": "f6578967",
   "metadata": {},
   "outputs": [],
   "source": [
    "def _compute_distance_matrix(x, p=2):\n",
    "    x_flat = x.view(x.size(0), -1)\n",
    "\n",
    "    distances = torch.norm(x_flat[:, None] - x_flat, dim=2, p=p)\n",
    "\n",
    "    return distances"
   ]
  },
  {
   "cell_type": "code",
   "execution_count": 6,
   "id": "36fc4884",
   "metadata": {},
   "outputs": [],
   "source": [
    "def get_persistence_diagram(point_cloud, maximum_dim):\n",
    "\n",
    "    point_cloud = torch.tensor(point_cloud)\n",
    "\n",
    "    dist_matrix = _compute_distance_matrix(point_cloud, p=2)\n",
    "    diagrams = ripser.ripser(dist_matrix.cpu().detach().numpy(), distance_matrix=True, maxdim=maximum_dim)['dgms']\n",
    "    return diagrams, plot_diagrams(diagrams, show=True)\n"
   ]
  },
  {
   "cell_type": "markdown",
   "id": "bf6d86ff",
   "metadata": {},
   "source": [
    "# Standford bunny"
   ]
  },
  {
   "cell_type": "code",
   "execution_count": null,
   "id": "495fe425",
   "metadata": {},
   "outputs": [],
   "source": []
  },
  {
   "cell_type": "code",
   "execution_count": null,
   "id": "fb391cc8",
   "metadata": {},
   "outputs": [],
   "source": []
  },
  {
   "cell_type": "code",
   "execution_count": 7,
   "id": "3bcc48e2",
   "metadata": {},
   "outputs": [],
   "source": [
    "point_data_bunny = np.load('/media/chethan/New Volume/Thesis/Project/barycenter_convergence_3d/bunny_coords.npy')"
   ]
  },
  {
   "cell_type": "code",
   "execution_count": 8,
   "id": "d45e911d",
   "metadata": {},
   "outputs": [
    {
     "data": {
      "text/plain": [
       "(34817, 3)"
      ]
     },
     "execution_count": 8,
     "metadata": {},
     "output_type": "execute_result"
    }
   ],
   "source": [
    "point_data_bunny.shape"
   ]
  },
  {
   "cell_type": "code",
   "execution_count": null,
   "id": "b7ffc160",
   "metadata": {},
   "outputs": [],
   "source": []
  },
  {
   "cell_type": "code",
   "execution_count": 9,
   "id": "fe75753a",
   "metadata": {},
   "outputs": [
    {
     "data": {
      "application/vnd.jupyter.widget-view+json": {
       "model_id": "d098f1d9bc89473cb1b529ec2a49e69e",
       "version_major": 2,
       "version_minor": 0
      },
      "text/plain": [
       "ViewInteractiveWidget(height=960, layout=Layout(height='auto', width='100%'), width=960)"
      ]
     },
     "metadata": {},
     "output_type": "display_data"
    }
   ],
   "source": [
    "x_t = point_data_bunny[:,0]\n",
    "y_t = point_data_bunny[:,1]\n",
    "z_t = point_data_bunny[:,2]\n",
    "\n",
    "\n",
    "plot_points = [x_t,y_t,z_t]\n",
    "Points(plot_points).show(axes=1)"
   ]
  },
  {
   "cell_type": "code",
   "execution_count": null,
   "id": "49053576",
   "metadata": {},
   "outputs": [],
   "source": []
  },
  {
   "cell_type": "code",
   "execution_count": 10,
   "id": "d18676b0",
   "metadata": {},
   "outputs": [],
   "source": [
    "#rand_sampled_standford_bunny = point_data_bunny[np.random.randint(0,34817, 132)]"
   ]
  },
  {
   "cell_type": "code",
   "execution_count": null,
   "id": "a1777286",
   "metadata": {},
   "outputs": [],
   "source": []
  },
  {
   "cell_type": "code",
   "execution_count": null,
   "id": "0e0f5b77",
   "metadata": {},
   "outputs": [],
   "source": []
  },
  {
   "cell_type": "code",
   "execution_count": null,
   "id": "71612618",
   "metadata": {},
   "outputs": [],
   "source": []
  },
  {
   "cell_type": "markdown",
   "id": "616c6273",
   "metadata": {},
   "source": [
    "# barycenter subsampling\n"
   ]
  },
  {
   "cell_type": "code",
   "execution_count": 31,
   "id": "43e150d0",
   "metadata": {},
   "outputs": [],
   "source": [
    "sweeing_radius = 0.06"
   ]
  },
  {
   "cell_type": "code",
   "execution_count": 32,
   "id": "c9292d66",
   "metadata": {
    "scrolled": true
   },
   "outputs": [],
   "source": [
    "bunny_bary = get_convergent_barycenters(point_data_bunny, point_data_bunny[0],sweeing_radius) #started at 17.48 0.06"
   ]
  },
  {
   "cell_type": "code",
   "execution_count": 33,
   "id": "7bc34b28",
   "metadata": {},
   "outputs": [
    {
     "data": {
      "text/plain": [
       "torch.Size([3089, 3])"
      ]
     },
     "execution_count": 33,
     "metadata": {},
     "output_type": "execute_result"
    }
   ],
   "source": [
    "bunny_bary.shape"
   ]
  },
  {
   "cell_type": "code",
   "execution_count": 34,
   "id": "49f66e7b",
   "metadata": {},
   "outputs": [],
   "source": [
    "#np.save('/media/chethan/New Volume/Thesis/Project/barycenter_convergence_3d/bunny_subsampled_3089_points.npy', bunny_bary)"
   ]
  },
  {
   "cell_type": "code",
   "execution_count": 35,
   "id": "942fdfd9",
   "metadata": {},
   "outputs": [],
   "source": [
    "#bunny_bary = np.load('/media/chethan/New Volume/Thesis/Project/barycenter_convergence_3d/bunny_subsampled_1227_points.npy')"
   ]
  },
  {
   "cell_type": "code",
   "execution_count": 36,
   "id": "6c1c223f",
   "metadata": {},
   "outputs": [
    {
     "data": {
      "application/vnd.jupyter.widget-view+json": {
       "model_id": "bf409328c6ed41458be696c9e909e9bb",
       "version_major": 2,
       "version_minor": 0
      },
      "text/plain": [
       "ViewInteractiveWidget(height=960, layout=Layout(height='auto', width='100%'), width=960)"
      ]
     },
     "metadata": {},
     "output_type": "display_data"
    }
   ],
   "source": [
    "# plotting the sampled barycenters\n",
    "\n",
    "x_stb = bunny_bary[:,0]#.cpu().detach().numpy()\n",
    "\n",
    "y_stb = bunny_bary[:,1]#.cpu().detach().numpy()\n",
    "\n",
    "z_stb = bunny_bary[:,2]#.cpu().detach().numpy()\n",
    "\n",
    "\n",
    "\n",
    "plot_points = [x_stb,y_stb,z_stb]\n",
    "Points(plot_points).show(axes=1)"
   ]
  },
  {
   "cell_type": "markdown",
   "id": "874cb3b7",
   "metadata": {},
   "source": [
    "# Random sampling same number of points"
   ]
  },
  {
   "cell_type": "code",
   "execution_count": 37,
   "id": "aa3c39f1",
   "metadata": {},
   "outputs": [],
   "source": [
    "rand_sampled_standford_bunny = point_data_bunny[np.random.randint(0,point_data_bunny.shape[0], bunny_bary.shape[0])]"
   ]
  },
  {
   "cell_type": "code",
   "execution_count": 38,
   "id": "02b4331c",
   "metadata": {},
   "outputs": [
    {
     "data": {
      "application/vnd.jupyter.widget-view+json": {
       "model_id": "46549fdc2c6b47698eb8124ebdf8eddf",
       "version_major": 2,
       "version_minor": 0
      },
      "text/plain": [
       "ViewInteractiveWidget(height=960, layout=Layout(height='auto', width='100%'), width=960)"
      ]
     },
     "metadata": {},
     "output_type": "display_data"
    }
   ],
   "source": [
    "# plotting the sampled barycenters\n",
    "\n",
    "x_stb = rand_sampled_standford_bunny[:,0]#.cpu().detach().numpy()\n",
    "\n",
    "y_stb = rand_sampled_standford_bunny[:,1]#.cpu().detach().numpy()\n",
    "\n",
    "z_stb = rand_sampled_standford_bunny[:,2]#.cpu().detach().numpy()\n",
    "\n",
    "\n",
    "\n",
    "plot_points = [x_stb,y_stb,z_stb]\n",
    "Points(plot_points).show(axes=1)"
   ]
  },
  {
   "cell_type": "code",
   "execution_count": null,
   "id": "036374ff",
   "metadata": {},
   "outputs": [],
   "source": []
  },
  {
   "cell_type": "code",
   "execution_count": null,
   "id": "a909dc60",
   "metadata": {},
   "outputs": [],
   "source": []
  }
 ],
 "metadata": {
  "kernelspec": {
   "display_name": "Python 3 (ipykernel)",
   "language": "python",
   "name": "python3"
  },
  "language_info": {
   "codemirror_mode": {
    "name": "ipython",
    "version": 3
   },
   "file_extension": ".py",
   "mimetype": "text/x-python",
   "name": "python",
   "nbconvert_exporter": "python",
   "pygments_lexer": "ipython3",
   "version": "3.9.5"
  },
  "vscode": {
   "interpreter": {
    "hash": "916dbcbb3f70747c44a77c7bcd40155683ae19c65e1c03b4aa3499c5328201f1"
   }
  }
 },
 "nbformat": 4,
 "nbformat_minor": 5
}
